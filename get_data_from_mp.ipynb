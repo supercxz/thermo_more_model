{
 "cells": [
  {
   "cell_type": "code",
   "execution_count": 1,
   "metadata": {},
   "outputs": [
    {
     "ename": "ModuleNotFoundError",
     "evalue": "No module named 'pymatgen'",
     "output_type": "error",
     "traceback": [
      "\u001b[0;31m---------------------------------------------------------------------------\u001b[0m",
      "\u001b[0;31mModuleNotFoundError\u001b[0m                       Traceback (most recent call last)",
      "Cell \u001b[0;32mIn[1], line 1\u001b[0m\n\u001b[0;32m----> 1\u001b[0m \u001b[38;5;28;01mfrom\u001b[39;00m \u001b[38;5;21;01mpymatgen\u001b[39;00m\u001b[38;5;21;01m.\u001b[39;00m\u001b[38;5;21;01mext\u001b[39;00m\u001b[38;5;21;01m.\u001b[39;00m\u001b[38;5;21;01mmatproj\u001b[39;00m \u001b[38;5;28;01mimport\u001b[39;00m MPRester\n\u001b[1;32m      3\u001b[0m API_KEY \u001b[38;5;241m=\u001b[39m \u001b[38;5;124m\"\u001b[39m\u001b[38;5;124myour_api_key\u001b[39m\u001b[38;5;124m\"\u001b[39m  \u001b[38;5;66;03m# 替换为您的实际API密钥\u001b[39;00m\n\u001b[1;32m      5\u001b[0m \u001b[38;5;28;01mdef\u001b[39;00m \u001b[38;5;21mget_materials_with_thermal_expansion\u001b[39m(api_key):\n",
      "\u001b[0;31mModuleNotFoundError\u001b[0m: No module named 'pymatgen'"
     ]
    }
   ],
   "source": [
    "from pymatgen.ext.matproj import MPRester\n",
    "\n",
    "API_KEY = \"your_api_key\"  # 替换为您的实际API密钥\n",
    "\n",
    "def get_materials_with_thermal_expansion(api_key):\n",
    "    with MPRester(api_key) as mpr:\n",
    "        # 检索具有热膨胀系数数据的所有材料\n",
    "        criteria = {\"thermal_expansion_coefficient\": {\"$exists\": True}}\n",
    "        properties = [\"pretty_formula\", \"thermal_expansion_coefficient\"]\n",
    "        materials_data = mpr.query(criteria=criteria, properties=properties)\n",
    "        \n",
    "        # 打印材料的化学式和热膨胀系数\n",
    "        for material in materials_data:\n",
    "            formula = material.get(\"pretty_formula\", \"N/A\")\n",
    "            tec = material.get(\"thermal_expansion_coefficient\", \"N/A\")\n",
    "            print(f\"Chemical Formula: {formula}, Thermal Expansion Coefficient: {tec}\")\n",
    "\n",
    "if __name__ == \"__main__\":\n",
    "    get_materials_with_thermal_expansion(API_KEY)\n"
   ]
  }
 ],
 "metadata": {
  "kernelspec": {
   "display_name": "thermo",
   "language": "python",
   "name": "thermo"
  },
  "language_info": {
   "codemirror_mode": {
    "name": "ipython",
    "version": 3
   },
   "file_extension": ".py",
   "mimetype": "text/x-python",
   "name": "python",
   "nbconvert_exporter": "python",
   "pygments_lexer": "ipython3",
   "version": "3.8.20"
  }
 },
 "nbformat": 4,
 "nbformat_minor": 2
}
