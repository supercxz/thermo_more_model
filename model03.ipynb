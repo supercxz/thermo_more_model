{
 "cells": [
  {
   "cell_type": "code",
   "execution_count": null,
   "id": "initial_id",
   "metadata": {
    "ExecuteTime": {
     "end_time": "2025-01-11T08:31:08.830321Z",
     "start_time": "2025-01-11T08:31:08.430778Z"
    },
    "collapsed": true
   },
   "outputs": [],
   "source": [
    "import pandas as pd\n",
    "import re\n",
    "import warnings\n",
    "warnings.filterwarnings(\"ignore\")\n",
    "\n",
    "import matplotlib.pyplot as plt\n",
    "plt.rcParams['font.sans-serif'] = ['Microsoft YaHei']\n",
    "plt.rcParams['axes.unicode_minus'] = False"
   ]
  },
  {
   "cell_type": "code",
   "execution_count": null,
   "id": "25388754264653eb",
   "metadata": {
    "ExecuteTime": {
     "end_time": "2025-01-11T08:31:10.436512Z",
     "start_time": "2025-01-11T08:31:10.103195Z"
    }
   },
   "outputs": [],
   "source": [
    "data_high_bound = 30\n",
    "data_low_bound = -20\n",
    "need_to_normalized = False\n",
    "\n",
    "data = pd.read_excel('./dataset/rt_df_thermo1.xlsx')\n",
    "data.head()"
   ]
  },
  {
   "cell_type": "code",
   "execution_count": null,
   "id": "bc6981eef62da83b",
   "metadata": {
    "ExecuteTime": {
     "end_time": "2025-01-11T08:31:11.951136Z",
     "start_time": "2025-01-11T08:31:11.941317Z"
    }
   },
   "outputs": [],
   "source": [
    "# 函数：解析化学成分及其比例\n",
    "def parse_normalized_formulas(formula):\n",
    "    \"\"\"\n",
    "    将Normalized_Formulas解析为化学成分及其比例。\n",
    "    返回一个字典，键为化学成分，值为比例。\n",
    "    \"\"\"\n",
    "    elements = re.findall(r'([A-Z][a-z]*)(\\d*\\.?\\d+)', formula)\n",
    "    return {element: float(ratio) for element, ratio in elements}"
   ]
  },
  {
   "cell_type": "code",
   "execution_count": null,
   "id": "4701a739ad6b6a8b",
   "metadata": {
    "ExecuteTime": {
     "end_time": "2025-01-11T08:31:13.564643Z",
     "start_time": "2025-01-11T08:31:13.545068Z"
    }
   },
   "outputs": [],
   "source": [
    "# 提取所有化学成分\n",
    "all_elements = set()\n",
    "for formula in data['Normalized_Formulas']:\n",
    "    parsed = parse_normalized_formulas(formula)\n",
    "    all_elements.update(parsed.keys())"
   ]
  },
  {
   "cell_type": "code",
   "execution_count": null,
   "id": "284130aa3c356b97",
   "metadata": {
    "ExecuteTime": {
     "end_time": "2025-01-11T08:31:14.956909Z",
     "start_time": "2025-01-11T08:31:14.950948Z"
    }
   },
   "outputs": [],
   "source": [
    "all_elements"
   ]
  },
  {
   "cell_type": "code",
   "execution_count": null,
   "id": "79cfa84cd92bdfc5",
   "metadata": {
    "ExecuteTime": {
     "end_time": "2025-01-11T08:31:16.994754Z",
     "start_time": "2025-01-11T08:31:16.890977Z"
    }
   },
   "outputs": [],
   "source": [
    "# 确保列顺序一致\n",
    "all_elements = sorted(all_elements)\n",
    "\n",
    "# 创建新列：每个元素作为一列，未出现的元素填充为0\n",
    "for element in all_elements:\n",
    "    data[element] = data['Normalized_Formulas'].apply(\n",
    "        lambda x: parse_normalized_formulas(x).get(element, 0)\n",
    "    )"
   ]
  },
  {
   "cell_type": "code",
   "execution_count": null,
   "id": "7f6a03b054610d91",
   "metadata": {
    "ExecuteTime": {
     "end_time": "2025-01-11T08:31:18.331142Z",
     "start_time": "2025-01-11T08:31:18.300378Z"
    }
   },
   "outputs": [],
   "source": [
    "data.head()"
   ]
  },
  {
   "cell_type": "code",
   "execution_count": null,
   "id": "ef332fc1869dd3de",
   "metadata": {
    "ExecuteTime": {
     "end_time": "2025-01-11T08:31:20.338004Z",
     "start_time": "2025-01-11T08:31:20.303625Z"
    }
   },
   "outputs": [],
   "source": [
    "df = data.copy()\n",
    "df = df.drop('formula', axis=1)\n",
    "df = df.drop('Normalized_Formulas', axis=1)\n",
    "df = df.drop('ID', axis=1)\n",
    "df.head()"
   ]
  },
  {
   "cell_type": "code",
   "execution_count": null,
   "id": "bdb1ae22",
   "metadata": {},
   "outputs": [],
   "source": [
    "import class_plotpicture as pl\n",
    "# 绘制目标特征的条形图\n",
    "pl.plot_prediction_feature(df, 'the thermal expansion', 'ImageOfThermal')"
   ]
  },
  {
   "cell_type": "markdown",
   "id": "6fda204f216f88a5",
   "metadata": {},
   "source": [
    "# 脏数据清理"
   ]
  },
  {
   "cell_type": "code",
   "execution_count": null,
   "id": "a0f74fa98ac45bb",
   "metadata": {
    "ExecuteTime": {
     "end_time": "2025-01-11T08:31:24.308555Z",
     "start_time": "2025-01-11T08:31:24.292954Z"
    }
   },
   "outputs": [],
   "source": [
    "# 删除 'the thermal expansion' 列中大于 data_high_bound 的行\n",
    "df_cleaned = df[df['the thermal expansion'] <= data_high_bound]\n",
    "\n",
    "# 删除 'the thermal expansion' 列中小于 data_low_bound 的行\n",
    "df_cleaned = df_cleaned[df_cleaned['the thermal expansion'] >= data_low_bound]"
   ]
  },
  {
   "cell_type": "code",
   "execution_count": null,
   "id": "ca578dde",
   "metadata": {},
   "outputs": [],
   "source": [
    "import class_plotpicture as pl\n",
    "\n",
    "# 绘制目标特征的条形图\n",
    "pl.plot_prediction_feature(df_cleaned, 'the thermal expansion', 'ImageOfThermal')"
   ]
  },
  {
   "cell_type": "markdown",
   "id": "14ae92e1aa8d4281",
   "metadata": {},
   "source": [
    "# 大致符合正态分布"
   ]
  },
  {
   "cell_type": "code",
   "execution_count": null,
   "id": "c78f46d0",
   "metadata": {},
   "outputs": [],
   "source": [
    "# 绘制数据的相关性：热力图\n",
    "# pl.plot_headmap(df_cleaned, 'the thermal expansion', 'ImageOfThermal')"
   ]
  },
  {
   "cell_type": "markdown",
   "id": "bdc51977",
   "metadata": {},
   "source": [
    "# 划分数据，进行训练和测试"
   ]
  },
  {
   "cell_type": "code",
   "execution_count": null,
   "id": "93a44dcc8bc336bc",
   "metadata": {
    "ExecuteTime": {
     "end_time": "2025-01-11T08:31:27.817446Z",
     "start_time": "2025-01-11T08:31:27.805470Z"
    }
   },
   "outputs": [],
   "source": [
    "all_features = df_cleaned.drop('the thermal expansion', axis=1)\n",
    "all_labels = df_cleaned['the thermal expansion']\n",
    "print(f'全部的特征：{all_features.shape}')\n",
    "print(f'全部的标签：{all_labels.shape}')"
   ]
  },
  {
   "cell_type": "code",
   "execution_count": null,
   "id": "76472278b3e46da",
   "metadata": {
    "ExecuteTime": {
     "end_time": "2025-01-11T08:31:31.690877Z",
     "start_time": "2025-01-11T08:31:31.075401Z"
    }
   },
   "outputs": [],
   "source": [
    "from sklearn.preprocessing import StandardScaler\n",
    "import numpy as np\n",
    "# 标准化特征\n",
    "scaler = StandardScaler()\n",
    "all_labels_scaler = scaler.fit_transform(np.array(all_labels).reshape(-1, 1))\n",
    "all_labels = np.array(all_labels).reshape(-1, 1)"
   ]
  },
  {
   "cell_type": "code",
   "execution_count": null,
   "id": "93844006edb1226a",
   "metadata": {
    "ExecuteTime": {
     "end_time": "2025-01-11T08:31:32.278905Z",
     "start_time": "2025-01-11T08:31:32.226497Z"
    }
   },
   "outputs": [],
   "source": [
    "from sklearn.model_selection import train_test_split\n",
    "# 将总的数据集分开。这里根据是否需要对特征进行标准化\n",
    "if need_to_normalized:\n",
    "    X_train, X_test, y_train, y_test = train_test_split(all_features, all_labels_scaler, test_size=0.2, random_state=42)\n",
    "else:\n",
    "    X_train, X_test, y_train, y_test = train_test_split(all_features, all_labels, test_size=0.2, random_state=42)\n",
    "print(f'训练集的特征：{X_train.shape}, 标签：{y_train.shape}')\n",
    "print(f'测试集的特征：{X_test.shape}, 标签：{y_test.shape}')"
   ]
  },
  {
   "cell_type": "markdown",
   "id": "f31ff068",
   "metadata": {},
   "source": [
    "# 超参数优化"
   ]
  },
  {
   "cell_type": "code",
   "execution_count": null,
   "id": "eb329fc5f3ef59aa",
   "metadata": {
    "ExecuteTime": {
     "end_time": "2025-01-11T08:32:00.293555Z",
     "start_time": "2025-01-11T08:31:59.867332Z"
    }
   },
   "outputs": [],
   "source": [
    "import xgboost as xgb\n",
    "from sklearn.metrics import mean_squared_error\n",
    "from sklearn.metrics import r2_score"
   ]
  },
  {
   "cell_type": "code",
   "execution_count": null,
   "id": "1c9bd393f7934cd6",
   "metadata": {
    "ExecuteTime": {
     "end_time": "2025-01-11T08:32:59.525104Z",
     "start_time": "2025-01-11T08:32:24.269226Z"
    }
   },
   "outputs": [],
   "source": [
    "# 统计不同的值对XGBoost的变化\n",
    "cllo_mse = []\n",
    "cllo_r2 = []\n",
    "best_idx, best_mse, best_r2 = 0, 100, 0\n",
    "# 先查找 n_estimators ，其他参数默认\n",
    "for i in range(1, 301):\n",
    "    print(f'第{i+1}个')\n",
    "    clf = xgb.XGBRegressor(random_state=42, n_estimators=i)\n",
    "    # 在训练集上拟合模型\n",
    "    clf.fit(X_train,y_train)\n",
    "    # 对测试集进行预测\n",
    "    label_pred = clf.predict(X_test)\n",
    "    # 计算MSE(平均误差)和精确度\n",
    "    mse = mean_squared_error(y_test, label_pred)\n",
    "    r2 = r2_score(y_test, label_pred)\n",
    "    cllo_mse.append(mse)\n",
    "    cllo_r2.append(r2)\n",
    "    if best_mse > mse:\n",
    "        best_mse = mse\n",
    "        best_idx = i\n",
    "        best_r2 = r2\n",
    "print(f'在XGBoost调优 n_estimators 过程中，最好的效果：mse:{best_mse:.5f}, r2:{best_r2:.5f}, n_estimators:{best_idx}')\n",
    "\n",
    "plt.figure(figsize=(10,6))\n",
    "plt.subplot(121)\n",
    "plt.plot(cllo_mse)\n",
    "plt.title('在调节 n_estimators 参数时MSE的变化')\n",
    "plt.subplot(122)\n",
    "plt.plot(cllo_r2)\n",
    "plt.title('在调节 n_estimators 参数时R2的变化')\n",
    "plt.show()"
   ]
  },
  {
   "cell_type": "code",
   "execution_count": null,
   "id": "d4e50faeacde87cb",
   "metadata": {
    "ExecuteTime": {
     "end_time": "2025-01-11T08:34:43.074160Z",
     "start_time": "2025-01-11T08:34:34.174940Z"
    }
   },
   "outputs": [],
   "source": [
    "# 统计不同的值对XGBoost的变化\n",
    "cllo_mse = []\n",
    "cllo_r2 = []\n",
    "best_idx, best_mse, best_r2 = 0, 100, 0\n",
    "# 先查找 n_estimators ，其他参数默认\n",
    "for i in range(1, 301):\n",
    "    print(f'第{i+1}个')\n",
    "    clf = xgb.XGBRegressor(random_state=42, n_estimators=11, learning_rate=i/100)\n",
    "    # 在训练集上拟合模型\n",
    "    clf.fit(X_train,y_train)\n",
    "    # 对测试集进行预测\n",
    "    label_pred = clf.predict(X_test)\n",
    "    # 计算MSE(平均误差)和精确度\n",
    "    mse = mean_squared_error(y_test, label_pred)\n",
    "    r2 = r2_score(y_test, label_pred)\n",
    "    cllo_mse.append(mse)\n",
    "    cllo_r2.append(r2)\n",
    "    if best_mse > mse:\n",
    "        best_mse = mse\n",
    "        best_idx = i\n",
    "        best_r2 = r2\n",
    "print(f'在XGBoost调优 leaf_size 过程中，最好的效果：mse:{best_mse:.5f}, r2:{best_r2:.5f}, leaf_size:{best_idx}')\n",
    "\n",
    "plt.figure(figsize=(10,6))\n",
    "plt.subplot(121)\n",
    "plt.plot(cllo_mse)\n",
    "plt.title('在调节 leaf_size 参数时MSE的变化')\n",
    "plt.subplot(122)\n",
    "plt.plot(cllo_r2)\n",
    "plt.title('在调节 leaf_size 参数时R2的变化')\n",
    "plt.show()"
   ]
  },
  {
   "cell_type": "code",
   "execution_count": null,
   "id": "b7937870a3624cad",
   "metadata": {
    "ExecuteTime": {
     "end_time": "2025-01-11T08:35:39.273524Z",
     "start_time": "2025-01-11T08:35:39.214164Z"
    }
   },
   "outputs": [],
   "source": [
    "# 创建XGBoost分类器对象\n",
    "clf = xgb.XGBRegressor(random_state=42, n_estimators=11, learning_rate=0.3)\n",
    "# 在训练集上拟合模型\n",
    "clf.fit(X_train, y_train)\n",
    "train_pred = clf.predict(X_train)\n",
    "# 对测试集进行预测\n",
    "label_pred = clf.predict(X_test)\n",
    "# 计算MSE(平均误差)和精确度\n",
    "mse = mean_squared_error(y_test, label_pred)\n",
    "r2 = r2_score(y_test, label_pred)\n",
    "# 输出模型评估结果和目标方程\n",
    "print(f'MSE:{mse:.5f}')\n",
    "print(f\"R2: {r2:.5f}\")"
   ]
  },
  {
   "cell_type": "code",
   "execution_count": null,
   "id": "ec233b72f5877b51",
   "metadata": {
    "ExecuteTime": {
     "end_time": "2025-01-11T08:35:50.333442Z",
     "start_time": "2025-01-11T08:35:50.045247Z"
    }
   },
   "outputs": [],
   "source": [
    "import matplotlib.pyplot as plt\n",
    "if need_to_normalized:\n",
    "    # 先将数据反归一化\n",
    "    salered_train_label_pred = scaler.inverse_transform(train_pred.reshape(-1,1))\n",
    "    salered_train_labels = scaler.inverse_transform(y_train)\n",
    "    # 预测集\n",
    "    salered_test_labels = scaler.inverse_transform(y_test)\n",
    "    salered_label_pred = scaler.inverse_transform(label_pred.reshape(-1,1))\n",
    "else:\n",
    "    salered_train_label_pred = train_pred.reshape(-1, 1)\n",
    "    salered_train_labels = y_train.reshape(-1, 1)\n",
    "    salered_test_labels = y_test.reshape(-1, 1)\n",
    "    salered_label_pred = label_pred.reshape(-1, 1)\n",
    "plt.scatter(salered_train_labels, salered_train_label_pred, color='blue', label='Predicted vs True')\n",
    "# 绘制Y=X的直线，表示完美预测\n",
    "plt.plot([min(salered_train_labels), max(salered_train_label_pred)], [min(salered_train_labels), max(salered_train_label_pred)], 'r--', label='Perfect Prediction (Y=X)')\n",
    "# 添加图例\n",
    "plt.legend()\n",
    "# 设置坐标轴标签\n",
    "plt.xlabel('真确的值')\n",
    "plt.ylabel('预测的值')\n",
    "# 设置标题\n",
    "plt.title('XGboost的训练集预测结果')\n",
    "# 显示图形\n",
    "plt.show()\n",
    "\n",
    "\n",
    "plt.scatter(salered_test_labels, salered_label_pred, color='blue', label='Predicted vs True')\n",
    "# 绘制Y=X的直线，表示完美预测\n",
    "plt.plot([min(salered_test_labels), max(salered_label_pred)], [min(salered_test_labels), max(salered_label_pred)], 'r--', label='Perfect Prediction (Y=X)')\n",
    "# 添加图例\n",
    "plt.legend()\n",
    "# 设置坐标轴标签\n",
    "plt.xlabel('真确的值')\n",
    "plt.ylabel('预测的值')\n",
    "# 设置标题\n",
    "plt.title('XGboost的测试集预测结果')\n",
    "# 显示图形\n",
    "plt.show()"
   ]
  },
  {
   "cell_type": "markdown",
   "id": "1a7e64a42989687b",
   "metadata": {},
   "source": [
    "# 查看预测的偏差值"
   ]
  },
  {
   "cell_type": "code",
   "execution_count": null,
   "id": "b760312e174c715b",
   "metadata": {
    "ExecuteTime": {
     "end_time": "2025-01-11T08:35:53.346262Z",
     "start_time": "2025-01-11T08:35:53.210210Z"
    }
   },
   "outputs": [],
   "source": [
    "\n",
    "big_num = 0\n",
    "small_num = 0\n",
    "for i in range(len(label_pred)):\n",
    "    if label_pred[i].mean() >= y_test[i].mean():\n",
    "        big_num += 1\n",
    "    else:\n",
    "        small_num += 1\n",
    "print(f'预测值大于原值的个数：{big_num}, 预测值小于原值的个数：{small_num}')\n",
    "\n",
    "# 计算偏移量\n",
    "value = []\n",
    "for i in range(len(label_pred)):\n",
    "    value.append(salered_test_labels[i] - salered_label_pred[i])\n",
    "\n",
    "bins = np.arange(-70, 71, 10)  # 从-1到1，每隔0.1一个区间\n",
    "counts, _ = np.histogram(value, bins=bins)\n",
    "print(counts)\n",
    "bin_centers = (bins[:-1] + bins[1:]) / 2\n",
    "# 绘制柱形图\n",
    "plt.figure(figsize=(10, 6))  # 设置图形大小\n",
    "plt.bar(bin_centers, counts, width=5, color='skyblue', edgecolor='black')  # 宽度设置为0.1与区间宽度相匹配\n",
    "\n",
    "# 添加标题和轴标签\n",
    "plt.title('误差偏移量')\n",
    "plt.xlabel('偏移量区间')\n",
    "plt.ylabel('统计个数')\n",
    "\n",
    "# 显示网格\n",
    "plt.grid(True)\n",
    "plt.show()"
   ]
  }
 ],
 "metadata": {
  "kernelspec": {
   "display_name": "thermo",
   "language": "python",
   "name": "thermo"
  },
  "language_info": {
   "codemirror_mode": {
    "name": "ipython",
    "version": 3
   },
   "file_extension": ".py",
   "mimetype": "text/x-python",
   "name": "python",
   "nbconvert_exporter": "python",
   "pygments_lexer": "ipython3",
   "version": "3.8.20"
  }
 },
 "nbformat": 4,
 "nbformat_minor": 5
}
