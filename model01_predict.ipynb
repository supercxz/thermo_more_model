{
 "cells": [
  {
   "cell_type": "code",
   "execution_count": null,
   "id": "initial_id",
   "metadata": {
    "ExecuteTime": {
     "end_time": "2025-01-09T13:35:06.918659Z",
     "start_time": "2025-01-09T13:35:05.885713Z"
    },
    "collapsed": true
   },
   "outputs": [],
   "source": [
    "import pandas as pd\n",
    "import re\n",
    "import warnings\n",
    "import matplotlib.pyplot as plt\n",
    "warnings.filterwarnings(\"ignore\")"
   ]
  },
  {
   "cell_type": "code",
   "execution_count": null,
   "id": "25388754264653eb",
   "metadata": {
    "ExecuteTime": {
     "end_time": "2025-01-09T13:35:07.543168Z",
     "start_time": "2025-01-09T13:35:06.921661Z"
    }
   },
   "outputs": [],
   "source": [
    "data_high_bound = 30\n",
    "data_low_bound = -20\n",
    "need_to_normalized = False\n",
    "need_to_write_result_to_csv = True\n",
    "\n",
    "data = pd.read_excel('./dataset/rt_df_thermo1.xlsx')\n",
    "print(data.head())\n",
    "\n",
    "print(f\"max = {data['the thermal expansion'].max()}\")\n",
    "print(f\"min = {data['the thermal expansion'].min()}\")\n",
    "\n",
    "in_range_count = data[(data['the thermal expansion'] >= -20) & (data['the thermal expansion'] <= 30)].shape[0]\n",
    "\n",
    "# 计算总数\n",
    "total_count = data.shape[0]\n",
    "\n",
    "# 计算比例\n",
    "proportion = in_range_count / total_count\n",
    "print(proportion)"
   ]
  },
  {
   "cell_type": "code",
   "execution_count": null,
   "id": "bc6981eef62da83b",
   "metadata": {
    "ExecuteTime": {
     "end_time": "2025-01-09T13:35:07.551962Z",
     "start_time": "2025-01-09T13:35:07.544176Z"
    }
   },
   "outputs": [],
   "source": [
    "# 函数：解析化学成分及其比例\n",
    "from collections import defaultdict\n",
    "def parse_normalized_formulas(formula):\n",
    "    \"\"\"\n",
    "    将Normalized_Formulas解析为化学成分及其比例。\n",
    "    返回一个字典，键为化学成分，值为比例。\n",
    "    \"\"\"\n",
    "    element_count = defaultdict(float)\n",
    "    elements = re.findall(r'([A-Z][a-z]*)(\\d*\\.?\\d+)', formula)\n",
    "    for element, ratio in elements:\n",
    "        # 如果没有数量则默认为1\n",
    "        count = float(ratio) if ratio else 1.0\n",
    "        element_count[element] += count\n",
    "    return dict(element_count)\n",
    "    # return {element: float(ratio) for element, ratio in elements}"
   ]
  },
  {
   "cell_type": "code",
   "execution_count": null,
   "id": "4701a739ad6b6a8b",
   "metadata": {
    "ExecuteTime": {
     "end_time": "2025-01-09T13:35:07.566633Z",
     "start_time": "2025-01-09T13:35:07.555966Z"
    }
   },
   "outputs": [],
   "source": [
    "# 提取所有化学成分\n",
    "all_elements = set()\n",
    "for formula in data['Normalized_Formulas']:\n",
    "    parsed = parse_normalized_formulas(formula)\n",
    "    all_elements.update(parsed.keys())"
   ]
  },
  {
   "cell_type": "code",
   "execution_count": null,
   "id": "284130aa3c356b97",
   "metadata": {
    "ExecuteTime": {
     "end_time": "2025-01-09T13:35:07.579440Z",
     "start_time": "2025-01-09T13:35:07.570942Z"
    }
   },
   "outputs": [],
   "source": [
    "all_elements"
   ]
  },
  {
   "cell_type": "code",
   "execution_count": null,
   "id": "79cfa84cd92bdfc5",
   "metadata": {
    "ExecuteTime": {
     "end_time": "2025-01-09T13:35:07.770592Z",
     "start_time": "2025-01-09T13:35:07.580752Z"
    }
   },
   "outputs": [],
   "source": [
    "# 确保列顺序一致\n",
    "all_elements = sorted(all_elements)\n",
    "\n",
    "# 创建新列：每个元素作为一列，未出现的元素填充为0\n",
    "for element in all_elements:\n",
    "    data[element] = data['Normalized_Formulas'].apply(\n",
    "        lambda x: parse_normalized_formulas(x).get(element, 0)\n",
    "    )"
   ]
  },
  {
   "cell_type": "code",
   "execution_count": null,
   "id": "7f6a03b054610d91",
   "metadata": {
    "ExecuteTime": {
     "end_time": "2025-01-09T13:35:07.805458Z",
     "start_time": "2025-01-09T13:35:07.773828Z"
    }
   },
   "outputs": [],
   "source": [
    "data.head()"
   ]
  },
  {
   "cell_type": "code",
   "execution_count": null,
   "id": "ef332fc1869dd3de",
   "metadata": {
    "ExecuteTime": {
     "end_time": "2025-01-09T13:35:07.849787Z",
     "start_time": "2025-01-09T13:35:07.807463Z"
    }
   },
   "outputs": [],
   "source": [
    "df = data.copy()\n",
    "df = df.drop('formula', axis=1)\n",
    "df = df.drop('Normalized_Formulas', axis=1)\n",
    "df = df.drop('ID', axis=1)\n",
    "df.head()"
   ]
  },
  {
   "cell_type": "code",
   "execution_count": null,
   "id": "dea92ecea0187f92",
   "metadata": {
    "ExecuteTime": {
     "end_time": "2025-01-09T13:35:11.563097Z",
     "start_time": "2025-01-09T13:35:07.851116Z"
    }
   },
   "outputs": [],
   "source": [
    "import class_plotpicture as pl\n",
    "# 绘制目标特征的条形图\n",
    "pl.plot_prediction_feature(df, 'the thermal expansion', 'ImageOfThermal')"
   ]
  },
  {
   "cell_type": "markdown",
   "id": "6fda204f216f88a5",
   "metadata": {},
   "source": [
    "# 可见需要把大于3000的视为异常值"
   ]
  },
  {
   "cell_type": "code",
   "execution_count": null,
   "id": "a0f74fa98ac45bb",
   "metadata": {
    "ExecuteTime": {
     "end_time": "2025-01-09T13:35:11.569342Z",
     "start_time": "2025-01-09T13:35:11.564106Z"
    }
   },
   "outputs": [],
   "source": [
    "# 删除 'the thermal expansion' 列中大于 3000 的行\n",
    "df_cleaned = df[df['the thermal expansion'] <= data_high_bound]"
   ]
  },
  {
   "cell_type": "code",
   "execution_count": null,
   "id": "e606bd86c5510b31",
   "metadata": {
    "ExecuteTime": {
     "end_time": "2025-01-09T13:35:12.722675Z",
     "start_time": "2025-01-09T13:35:12.717662Z"
    }
   },
   "outputs": [],
   "source": [
    "# 删除 'the thermal expansion' 列中小于 -200 的行\n",
    "df_cleaned = df_cleaned[df_cleaned['the thermal expansion'] >= data_low_bound]"
   ]
  },
  {
   "cell_type": "code",
   "execution_count": null,
   "id": "45246c004185a9a1",
   "metadata": {
    "ExecuteTime": {
     "end_time": "2025-01-09T13:35:14.114063Z",
     "start_time": "2025-01-09T13:35:12.724678Z"
    }
   },
   "outputs": [],
   "source": [
    "import class_plotpicture as pl\n",
    "\n",
    "# 绘制目标特征的条形图\n",
    "pl.plot_prediction_feature(df_cleaned, 'the thermal expansion', 'ImageOfThermal')"
   ]
  },
  {
   "cell_type": "markdown",
   "id": "14ae92e1aa8d4281",
   "metadata": {},
   "source": [
    "# 大致符合正态分布"
   ]
  },
  {
   "cell_type": "markdown",
   "id": "d59dc2516f44ad95",
   "metadata": {},
   "source": [
    "# 划分数据，进行训练和测试"
   ]
  },
  {
   "cell_type": "code",
   "execution_count": null,
   "id": "93a44dcc8bc336bc",
   "metadata": {
    "ExecuteTime": {
     "end_time": "2025-01-09T13:35:25.679630Z",
     "start_time": "2025-01-09T13:35:25.672366Z"
    }
   },
   "outputs": [],
   "source": [
    "all_features = df_cleaned.drop('the thermal expansion', axis=1)\n",
    "all_labels = df_cleaned['the thermal expansion']\n",
    "print(f'全部的特征：{all_features.shape}')\n",
    "print(f'全部的标签：{all_labels.shape}')"
   ]
  },
  {
   "cell_type": "code",
   "execution_count": null,
   "id": "76472278b3e46da",
   "metadata": {
    "ExecuteTime": {
     "end_time": "2025-01-09T13:35:25.905401Z",
     "start_time": "2025-01-09T13:35:25.682991Z"
    }
   },
   "outputs": [],
   "source": [
    "from sklearn.preprocessing import StandardScaler\n",
    "import numpy as np\n",
    "# 标准化特征\n",
    "scaler = StandardScaler()\n",
    "all_labels_scaler = scaler.fit_transform(np.array(all_labels).reshape(-1, 1))\n",
    "all_labels = np.array(all_labels).reshape(-1, 1)"
   ]
  },
  {
   "cell_type": "code",
   "execution_count": null,
   "id": "93844006edb1226a",
   "metadata": {
    "ExecuteTime": {
     "end_time": "2025-01-09T13:35:26.047547Z",
     "start_time": "2025-01-09T13:35:25.906420Z"
    }
   },
   "outputs": [],
   "source": [
    "from sklearn.model_selection import train_test_split\n",
    "# 将总的数据集分开\n",
    "if need_to_normalized:\n",
    "    X_train, X_test, y_train, y_test = train_test_split(all_features, all_labels_scaler, test_size=0.2, random_state=42)\n",
    "else:\n",
    "    X_train, X_test, y_train, y_test = train_test_split(all_features, all_labels, test_size=0.2, random_state=42)\n",
    "print(f'训练集的特征：{X_train.shape}, 标签：{y_train.shape}')\n",
    "print(f'测试集的特征：{X_test.shape}, 标签：{y_test.shape}')"
   ]
  },
  {
   "cell_type": "code",
   "execution_count": null,
   "id": "eb329fc5f3ef59aa",
   "metadata": {
    "ExecuteTime": {
     "end_time": "2025-01-09T13:35:26.628622Z",
     "start_time": "2025-01-09T13:35:26.048565Z"
    }
   },
   "outputs": [],
   "source": [
    "from sklearn.ensemble import RandomForestRegressor\n",
    "from sklearn.metrics import mean_squared_error\n",
    "from sklearn.metrics import r2_score"
   ]
  },
  {
   "cell_type": "code",
   "execution_count": null,
   "id": "b7937870a3624cad",
   "metadata": {
    "ExecuteTime": {
     "end_time": "2025-01-09T13:37:26.029176Z",
     "start_time": "2025-01-09T13:37:26.007593Z"
    }
   },
   "outputs": [],
   "source": [
    "# 创建随机森林分类器对象\n",
    "# clf = RandomForestRegressor(random_state=42, n_estimators=2, max_features=38, min_samples_leaf=1, max_depth=29)\n",
    "# clf = RandomForestRegressor(random_state=42, n_estimators=66, max_features=6, min_samples_leaf=1, max_depth=41)\n",
    "# clf = RandomForestRegressor(random_state=42, n_estimators=38, max_features=20, min_samples_leaf=1, max_depth=24)\n",
    "# clf = RandomForestRegressor(random_state=42, n_estimators=15, max_features=1, min_samples_leaf=1, max_depth=43)\n",
    "clf = RandomForestRegressor(random_state=42, n_estimators=14, max_features=1, min_samples_leaf=1, max_depth=43)\n",
    "# 在训练集上拟合模型\n",
    "clf.fit(X_train, y_train)\n",
    "train_pred = clf.predict(X_train)\n",
    "# 对测试集进行预测\n",
    "label_pred = clf.predict(X_test)\n",
    "# 计算MSE(平均误差)和精确度\n",
    "mse = mean_squared_error(y_test, label_pred)\n",
    "r2 = r2_score(y_test, label_pred)\n",
    "# 输出模型评估结果和目标方程\n",
    "print(f'MSE:{mse:.5f}')\n",
    "print(f\"R2: {r2:.5f}\")"
   ]
  },
  {
   "cell_type": "markdown",
   "id": "77e67d24",
   "metadata": {},
   "source": [
    "# 预测3"
   ]
  },
  {
   "cell_type": "code",
   "execution_count": null,
   "id": "7836088c",
   "metadata": {},
   "outputs": [],
   "source": [
    "data = pd.read_excel('./dataset/to_predict_3.xlsx')\n",
    "print(data.head())"
   ]
  },
  {
   "cell_type": "code",
   "execution_count": null,
   "id": "bfa72a4e",
   "metadata": {},
   "outputs": [],
   "source": [
    "data_raw = pd.read_excel('./dataset/to_predict_3.xlsx')\n",
    "data = data_raw[['pretty_formula']]\n",
    "print(data.head())\n",
    "\n",
    "# 确保列顺序一致\n",
    "all_elements = sorted(all_elements)\n",
    "\n",
    "# 创建新列：每个元素作为一列，未出现的元素填充为0\n",
    "for element in all_elements:\n",
    "    data[element] = data['pretty_formula'].apply(\n",
    "        lambda x: parse_normalized_formulas(x).get(element, 0)\n",
    "    )\n",
    "\n",
    "data = data.drop('pretty_formula', axis=1)\n",
    "print(data.head())\n",
    "\n",
    "pred = clf.predict(data)\n",
    "\n",
    "print(f'pred: {pred}')\n",
    "print(type(pred))\n",
    "\n",
    "# 结果保存为文件\n",
    "pred_df = pd.DataFrame(pred, columns=['thermal expansion predict'])\n",
    "\n",
    "data_result = pd.concat([data_raw, pred_df], axis=1)\n",
    "\n",
    "data_result.to_excel('./dataset/to_predict_3_result.xlsx', index=False)"
   ]
  },
  {
   "cell_type": "markdown",
   "id": "0f31060f",
   "metadata": {},
   "source": [
    "# 预测"
   ]
  },
  {
   "cell_type": "code",
   "execution_count": null,
   "id": "f6df74e4",
   "metadata": {},
   "outputs": [],
   "source": [
    "# 预测\n",
    "lmo_data = {\n",
    "    'Normalized_Formulas': [\n",
    "        'Li0.25O0.75', \n",
    "        'Li0.1667V0.1667F0.6667',\n",
    "        f'Li{round(1/8, 4)}V{round(1/8, 4)}F{round(6/8, 4)}',\n",
    "        f'Li{round(1/10, 4)}Fe{round(2/10, 4)}F{round(7/10, 4)}'\n",
    "        ]\n",
    "}\n",
    "\n",
    "# 根据字典初始化 DataFrame\n",
    "lmo_data = pd.DataFrame(lmo_data)\n",
    "\n",
    "# 确保列顺序一致\n",
    "all_elements = sorted(all_elements)\n",
    "\n",
    "# 创建新列：每个元素作为一列，未出现的元素填充为0\n",
    "for element in all_elements:\n",
    "    lmo_data[element] = lmo_data['Normalized_Formulas'].apply(\n",
    "        lambda x: parse_normalized_formulas(x).get(element, 0)\n",
    "    )\n",
    "\n",
    "print(lmo_data)\n",
    "\n",
    "lmo_data = lmo_data.drop('Normalized_Formulas', axis=1)\n",
    "print(lmo_data)\n",
    "\n",
    "lmo_pred = clf.predict(lmo_data)\n",
    "\n",
    "print(f'lmo_pred: {lmo_pred}')\n",
    "\n",
    "if need_to_normalized:\n",
    "    # 将数据反归一化（归一化是 fit_transform\n",
    "    salered_lmo_pred = scaler.inverse_transform(lmo_pred.reshape(-1,1))\n",
    "    print(f'salered_lmo_pred: {salered_lmo_pred}')"
   ]
  },
  {
   "cell_type": "markdown",
   "id": "9dda8004",
   "metadata": {},
   "source": [
    "# 预测LATP"
   ]
  },
  {
   "cell_type": "code",
   "execution_count": null,
   "id": "16d09039",
   "metadata": {},
   "outputs": [],
   "source": [
    "latp_data_raw = pd.read_excel('./dataset/pred33Ti.xlsx')\n",
    "latp_data = latp_data_raw[['pretty_formula']]\n",
    "print(latp_data.head())\n",
    "\n",
    "# 确保列顺序一致\n",
    "all_elements = sorted(all_elements)\n",
    "\n",
    "# 创建新列：每个元素作为一列，未出现的元素填充为0\n",
    "for element in all_elements:\n",
    "    latp_data[element] = latp_data['pretty_formula'].apply(\n",
    "        lambda x: parse_normalized_formulas(x).get(element, 0)\n",
    "    )\n",
    "\n",
    "latp_data = latp_data.drop('pretty_formula', axis=1)\n",
    "print(latp_data.head())\n",
    "\n",
    "latp_pred = clf.predict(latp_data)\n",
    "\n",
    "print(f'latp_pred: {latp_pred}')\n",
    "\n",
    "# sorted_latp_pred = sorted(latp_pred, reverse=True)\n",
    "# print(f'sorted_latp_pred: {sorted_latp_pred}')\n",
    "\n",
    "target = 7.77845455\n",
    "closest_numbers = find_closest_numbers(latp_pred, target, 50)\n",
    "\n",
    "# 打印与目标值最接近的n个数字及其索引\n",
    "for diff, index, number in closest_numbers:\n",
    "    print(f\"化学式: {latp_data_raw['pretty_formula'][index]}, 预测结果: {number}, 与 {target} 的差: {diff}, 索引: {index}, \")\n",
    "\n",
    "if need_to_normalized:\n",
    "    # 将数据反归一化（归一化是 fit_transform\n",
    "    salered_latp_pred = scaler.inverse_transform(latp_pred.reshape(-1,1))\n",
    "    print(f'salered_latp_pred: {salered_latp_pred}')\n",
    "    sorted_salered_latp_pred = sorted(salered_latp_pred)\n",
    "    print(f'sorted_salered_latp_pred: {sorted_salered_latp_pred}')\n"
   ]
  },
  {
   "cell_type": "markdown",
   "id": "0a46f56d",
   "metadata": {},
   "source": [
    "# 预测LATP（带离子电导率预测）"
   ]
  },
  {
   "cell_type": "code",
   "execution_count": null,
   "id": "c9b1b8ef",
   "metadata": {},
   "outputs": [],
   "source": [
    "latp_with_conductivity_data_raw = pd.read_csv('./dataset/pred33Ti_with_conductivity_prediction.csv', header=None)\n",
    "\n",
    "latp_conductivity_column = latp_with_conductivity_data_raw.iloc[:, 1].reset_index(drop=True)\n",
    "latp_original_formula_column = latp_with_conductivity_data_raw.iloc[:, 19].reset_index(drop=True)\n",
    "\n",
    "# 归一化化学式\n",
    "from utils import normalize_chemical_formula\n",
    "latp_formula_column = latp_original_formula_column.apply(lambda x: normalize_chemical_formula(x))\n",
    "\n",
    "latp_formula_column.name = 'pretty_formula'\n",
    "latp_data = pd.DataFrame(latp_formula_column)\n",
    "print(latp_data.head())\n",
    "\n",
    "# 确保列顺序一致\n",
    "all_elements = sorted(all_elements)\n",
    "\n",
    "# 创建新列：每个元素作为一列，未出现的元素填充为0\n",
    "for element in all_elements:\n",
    "    latp_data[element] = latp_data['pretty_formula'].apply(\n",
    "        lambda x: parse_normalized_formulas(x).get(element, 0)\n",
    "    )\n",
    "\n",
    "latp_data = latp_data.drop('pretty_formula', axis=1)\n",
    "print(latp_data.head())\n",
    "\n",
    "latp_pred = clf.predict(latp_data)\n",
    "\n",
    "print(f'latp_pred: {latp_pred}')\n",
    "\n",
    "if need_to_normalized:\n",
    "    # 将数据反归一化（归一化是 fit_transform\n",
    "    salered_latp_pred = scaler.inverse_transform(latp_pred.reshape(-1,1))\n",
    "    print(f'salered_latp_pred: {salered_latp_pred}')"
   ]
  },
  {
   "cell_type": "code",
   "execution_count": null,
   "id": "5aff29ad",
   "metadata": {},
   "outputs": [],
   "source": [
    "# 绘制图像，横轴是热膨胀系数，纵轴是锂离子电导率\n",
    "x = latp_pred\n",
    "y = 10**latp_conductivity_column * 1000\n",
    "plt.figure(figsize=(8, 6))  # 设定图形大小\n",
    "plt.scatter(x, y, color='blue', marker='o')  # 绘制散点\n",
    "# plt.axvline(x=7, color='red', linestyle='--', label='x = 7')  # 红色虚线\n",
    "\n",
    "plt.title('Scatter Plot of latp_pred vs latp_conductivity_column')  # 图标题\n",
    "plt.xlabel('latp_pred')  # x轴标签\n",
    "plt.ylabel('latp_conductivity_column')  # y轴标签\n",
    "plt.grid(True)  # 显示网格\n",
    "plt.show()  # 显示图形\n",
    "\n",
    "if need_to_write_result_to_csv:\n",
    "    save_data_conductivity_TX = pd.DataFrame({'formula': latp_formula_column, 'original_formula': latp_original_formula_column, 'thermal_expansion': latp_pred, 'li ion conductivity': 10**latp_conductivity_column * 1000})\n",
    "    save_data_conductivity_TX.to_csv('result/随机森林-最终预测结果.csv', index=False, header=True)"
   ]
  },
  {
   "cell_type": "markdown",
   "id": "5efe3a08",
   "metadata": {},
   "source": [
    "# 寻找 电导率 与 热膨胀系数 综合最优"
   ]
  },
  {
   "cell_type": "code",
   "execution_count": null,
   "id": "e2d18c4a",
   "metadata": {},
   "outputs": [],
   "source": [
    "data_conductivity_TX = pd.DataFrame({'thermal_expansion': latp_pred, 'formula': latp_formula_column, 'original_formula': latp_original_formula_column})\n",
    "data_conductivity_TX['conductivity'] = latp_conductivity_column\n",
    "data_conductivity_TX.head()\n",
    "\n",
    "# 目标值\n",
    "target_value = 7\n",
    "\n",
    "# 计算 A 与目标值的绝对差\n",
    "data_conductivity_TX['abs_diff'] = (data_conductivity_TX['thermal_expansion'] - 7).abs()\n",
    "\n",
    "# 找到对于每个 B 值，C 值最小的行\n",
    "def find_min_C(group):\n",
    "    return group[group['abs_diff'] == group['abs_diff'].min()]\n",
    "\n",
    "result = data_conductivity_TX.groupby('conductivity').apply(find_min_C).reset_index(drop=True)\n",
    "\n",
    "result['conductivity'] = 10 ** result['conductivity'] * 1000\n",
    "# print(result[['thermal_expansion', 'conductivity', 'abs_diff']])\n",
    "\n",
    "filter_result = result[(result['thermal_expansion'] > 6.5) & (result['thermal_expansion'] < 7.5)].sort_values(by='conductivity', ascending=False).head(10)\n",
    "\n",
    "print(filter_result[['thermal_expansion', 'conductivity', 'abs_diff', 'formula', 'original_formula']])"
   ]
  },
  {
   "cell_type": "code",
   "execution_count": null,
   "id": "881ac259",
   "metadata": {},
   "outputs": [],
   "source": [
    "# 找电导率最高的54个结构\n",
    "result_54 = data_conductivity_TX.sort_values(by='conductivity',ascending=False).head(54)\n",
    "result_54['conductivity'] = 10 ** result_54['conductivity'] * 1000\n",
    "result_54\n"
   ]
  }
 ],
 "metadata": {
  "kernelspec": {
   "display_name": "thermo",
   "language": "python",
   "name": "thermo"
  },
  "language_info": {
   "codemirror_mode": {
    "name": "ipython",
    "version": 3
   },
   "file_extension": ".py",
   "mimetype": "text/x-python",
   "name": "python",
   "nbconvert_exporter": "python",
   "pygments_lexer": "ipython3",
   "version": "3.8.20"
  }
 },
 "nbformat": 4,
 "nbformat_minor": 5
}
