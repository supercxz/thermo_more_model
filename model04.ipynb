{
 "cells": [
  {
   "cell_type": "code",
   "id": "initial_id",
   "metadata": {
    "collapsed": true,
    "ExecuteTime": {
     "end_time": "2025-01-11T08:37:13.137151Z",
     "start_time": "2025-01-11T08:37:12.738576Z"
    }
   },
   "source": [
    "import pandas as pd\n",
    "import re\n",
    "import warnings\n",
    "warnings.filterwarnings(\"ignore\")"
   ],
   "outputs": [],
   "execution_count": 1
  },
  {
   "metadata": {
    "ExecuteTime": {
     "end_time": "2025-01-11T08:37:15.481558Z",
     "start_time": "2025-01-11T08:37:15.209549Z"
    }
   },
   "cell_type": "code",
   "source": [
    "data = pd.read_excel('./dataset/rt_df_thermo1.xlsx')\n",
    "data.head()"
   ],
   "id": "25388754264653eb",
   "outputs": [
    {
     "data": {
      "text/plain": [
       "   ID               formula  the thermal expansion       Normalized_Formulas\n",
       "0   1                 Fe3Ni                  14.00          Fe0.7500Ni0.2500\n",
       "1   2         Fe3Ni0.5Pt0.5                  16.80  Fe0.7500Ni0.1250Pt0.1250\n",
       "2   3                 Fe3Pt                 -30.00          Fe0.7500Pt0.2500\n",
       "3   4          Fe0.75Pt0.25                 -26.00          Fe0.7500Pt0.2500\n",
       "4   5  Fe0.75Ni0.125Pt0.125                  11.37  Fe0.7500Ni0.1250Pt0.1250"
      ],
      "text/html": [
       "<div>\n",
       "<style scoped>\n",
       "    .dataframe tbody tr th:only-of-type {\n",
       "        vertical-align: middle;\n",
       "    }\n",
       "\n",
       "    .dataframe tbody tr th {\n",
       "        vertical-align: top;\n",
       "    }\n",
       "\n",
       "    .dataframe thead th {\n",
       "        text-align: right;\n",
       "    }\n",
       "</style>\n",
       "<table border=\"1\" class=\"dataframe\">\n",
       "  <thead>\n",
       "    <tr style=\"text-align: right;\">\n",
       "      <th></th>\n",
       "      <th>ID</th>\n",
       "      <th>formula</th>\n",
       "      <th>the thermal expansion</th>\n",
       "      <th>Normalized_Formulas</th>\n",
       "    </tr>\n",
       "  </thead>\n",
       "  <tbody>\n",
       "    <tr>\n",
       "      <th>0</th>\n",
       "      <td>1</td>\n",
       "      <td>Fe3Ni</td>\n",
       "      <td>14.00</td>\n",
       "      <td>Fe0.7500Ni0.2500</td>\n",
       "    </tr>\n",
       "    <tr>\n",
       "      <th>1</th>\n",
       "      <td>2</td>\n",
       "      <td>Fe3Ni0.5Pt0.5</td>\n",
       "      <td>16.80</td>\n",
       "      <td>Fe0.7500Ni0.1250Pt0.1250</td>\n",
       "    </tr>\n",
       "    <tr>\n",
       "      <th>2</th>\n",
       "      <td>3</td>\n",
       "      <td>Fe3Pt</td>\n",
       "      <td>-30.00</td>\n",
       "      <td>Fe0.7500Pt0.2500</td>\n",
       "    </tr>\n",
       "    <tr>\n",
       "      <th>3</th>\n",
       "      <td>4</td>\n",
       "      <td>Fe0.75Pt0.25</td>\n",
       "      <td>-26.00</td>\n",
       "      <td>Fe0.7500Pt0.2500</td>\n",
       "    </tr>\n",
       "    <tr>\n",
       "      <th>4</th>\n",
       "      <td>5</td>\n",
       "      <td>Fe0.75Ni0.125Pt0.125</td>\n",
       "      <td>11.37</td>\n",
       "      <td>Fe0.7500Ni0.1250Pt0.1250</td>\n",
       "    </tr>\n",
       "  </tbody>\n",
       "</table>\n",
       "</div>"
      ]
     },
     "execution_count": 2,
     "metadata": {},
     "output_type": "execute_result"
    }
   ],
   "execution_count": 2
  },
  {
   "metadata": {
    "ExecuteTime": {
     "end_time": "2025-01-11T08:37:16.399689Z",
     "start_time": "2025-01-11T08:37:16.391255Z"
    }
   },
   "cell_type": "code",
   "source": [
    "# 函数：解析化学成分及其比例\n",
    "def parse_normalized_formulas(formula):\n",
    "    \"\"\"\n",
    "    将Normalized_Formulas解析为化学成分及其比例。\n",
    "    返回一个字典，键为化学成分，值为比例。\n",
    "    \"\"\"\n",
    "    elements = re.findall(r'([A-Z][a-z]*)(\\d*\\.?\\d+)', formula)\n",
    "    return {element: float(ratio) for element, ratio in elements}"
   ],
   "id": "bc6981eef62da83b",
   "outputs": [],
   "execution_count": 3
  },
  {
   "metadata": {
    "ExecuteTime": {
     "end_time": "2025-01-11T08:37:17.325742Z",
     "start_time": "2025-01-11T08:37:17.307957Z"
    }
   },
   "cell_type": "code",
   "source": [
    "# 提取所有化学成分\n",
    "all_elements = set()\n",
    "for formula in data['Normalized_Formulas']:\n",
    "    parsed = parse_normalized_formulas(formula)\n",
    "    all_elements.update(parsed.keys())"
   ],
   "id": "4701a739ad6b6a8b",
   "outputs": [],
   "execution_count": 4
  },
  {
   "metadata": {
    "ExecuteTime": {
     "end_time": "2025-01-11T08:37:18.037158Z",
     "start_time": "2025-01-11T08:37:18.025754Z"
    }
   },
   "cell_type": "code",
   "source": "all_elements",
   "id": "284130aa3c356b97",
   "outputs": [
    {
     "data": {
      "text/plain": [
       "{'Al',\n",
       " 'As',\n",
       " 'B',\n",
       " 'Ba',\n",
       " 'Bi',\n",
       " 'Br',\n",
       " 'C',\n",
       " 'Ca',\n",
       " 'Cd',\n",
       " 'Ce',\n",
       " 'Co',\n",
       " 'Cr',\n",
       " 'Cs',\n",
       " 'Cu',\n",
       " 'Dy',\n",
       " 'Er',\n",
       " 'Eu',\n",
       " 'F',\n",
       " 'Fe',\n",
       " 'Ga',\n",
       " 'Gd',\n",
       " 'Ge',\n",
       " 'H',\n",
       " 'Hf',\n",
       " 'Ho',\n",
       " 'I',\n",
       " 'In',\n",
       " 'K',\n",
       " 'La',\n",
       " 'Lu',\n",
       " 'Mg',\n",
       " 'Mn',\n",
       " 'Mo',\n",
       " 'N',\n",
       " 'Nb',\n",
       " 'Nd',\n",
       " 'Ni',\n",
       " 'O',\n",
       " 'Os',\n",
       " 'P',\n",
       " 'Pb',\n",
       " 'Pr',\n",
       " 'Pt',\n",
       " 'Rb',\n",
       " 'Re',\n",
       " 'Rh',\n",
       " 'Ru',\n",
       " 'S',\n",
       " 'Sb',\n",
       " 'Sc',\n",
       " 'Se',\n",
       " 'Si',\n",
       " 'Sm',\n",
       " 'Sn',\n",
       " 'Sr',\n",
       " 'Ta',\n",
       " 'Tb',\n",
       " 'Te',\n",
       " 'Ti',\n",
       " 'V',\n",
       " 'W',\n",
       " 'Y',\n",
       " 'Yb',\n",
       " 'Zn',\n",
       " 'Zr'}"
      ]
     },
     "execution_count": 5,
     "metadata": {},
     "output_type": "execute_result"
    }
   ],
   "execution_count": 5
  },
  {
   "metadata": {
    "ExecuteTime": {
     "end_time": "2025-01-11T08:37:18.801764Z",
     "start_time": "2025-01-11T08:37:18.683481Z"
    }
   },
   "cell_type": "code",
   "source": [
    "# 确保列顺序一致\n",
    "all_elements = sorted(all_elements)\n",
    "\n",
    "# 创建新列：每个元素作为一列，未出现的元素填充为0\n",
    "for element in all_elements:\n",
    "    data[element] = data['Normalized_Formulas'].apply(\n",
    "        lambda x: parse_normalized_formulas(x).get(element, 0)\n",
    "    )"
   ],
   "id": "79cfa84cd92bdfc5",
   "outputs": [],
   "execution_count": 6
  },
  {
   "metadata": {
    "ExecuteTime": {
     "end_time": "2025-01-11T08:37:19.357119Z",
     "start_time": "2025-01-11T08:37:19.322464Z"
    }
   },
   "cell_type": "code",
   "source": "data.head()",
   "id": "7f6a03b054610d91",
   "outputs": [
    {
     "data": {
      "text/plain": [
       "   ID               formula  the thermal expansion       Normalized_Formulas  \\\n",
       "0   1                 Fe3Ni                  14.00          Fe0.7500Ni0.2500   \n",
       "1   2         Fe3Ni0.5Pt0.5                  16.80  Fe0.7500Ni0.1250Pt0.1250   \n",
       "2   3                 Fe3Pt                 -30.00          Fe0.7500Pt0.2500   \n",
       "3   4          Fe0.75Pt0.25                 -26.00          Fe0.7500Pt0.2500   \n",
       "4   5  Fe0.75Ni0.125Pt0.125                  11.37  Fe0.7500Ni0.1250Pt0.1250   \n",
       "\n",
       "    Al   As    B   Ba   Bi   Br  ...   Ta   Tb   Te   Ti    V    W    Y   Yb  \\\n",
       "0  0.0  0.0  0.0  0.0  0.0  0.0  ...  0.0  0.0  0.0  0.0  0.0  0.0  0.0  0.0   \n",
       "1  0.0  0.0  0.0  0.0  0.0  0.0  ...  0.0  0.0  0.0  0.0  0.0  0.0  0.0  0.0   \n",
       "2  0.0  0.0  0.0  0.0  0.0  0.0  ...  0.0  0.0  0.0  0.0  0.0  0.0  0.0  0.0   \n",
       "3  0.0  0.0  0.0  0.0  0.0  0.0  ...  0.0  0.0  0.0  0.0  0.0  0.0  0.0  0.0   \n",
       "4  0.0  0.0  0.0  0.0  0.0  0.0  ...  0.0  0.0  0.0  0.0  0.0  0.0  0.0  0.0   \n",
       "\n",
       "    Zn   Zr  \n",
       "0  0.0  0.0  \n",
       "1  0.0  0.0  \n",
       "2  0.0  0.0  \n",
       "3  0.0  0.0  \n",
       "4  0.0  0.0  \n",
       "\n",
       "[5 rows x 69 columns]"
      ],
      "text/html": [
       "<div>\n",
       "<style scoped>\n",
       "    .dataframe tbody tr th:only-of-type {\n",
       "        vertical-align: middle;\n",
       "    }\n",
       "\n",
       "    .dataframe tbody tr th {\n",
       "        vertical-align: top;\n",
       "    }\n",
       "\n",
       "    .dataframe thead th {\n",
       "        text-align: right;\n",
       "    }\n",
       "</style>\n",
       "<table border=\"1\" class=\"dataframe\">\n",
       "  <thead>\n",
       "    <tr style=\"text-align: right;\">\n",
       "      <th></th>\n",
       "      <th>ID</th>\n",
       "      <th>formula</th>\n",
       "      <th>the thermal expansion</th>\n",
       "      <th>Normalized_Formulas</th>\n",
       "      <th>Al</th>\n",
       "      <th>As</th>\n",
       "      <th>B</th>\n",
       "      <th>Ba</th>\n",
       "      <th>Bi</th>\n",
       "      <th>Br</th>\n",
       "      <th>...</th>\n",
       "      <th>Ta</th>\n",
       "      <th>Tb</th>\n",
       "      <th>Te</th>\n",
       "      <th>Ti</th>\n",
       "      <th>V</th>\n",
       "      <th>W</th>\n",
       "      <th>Y</th>\n",
       "      <th>Yb</th>\n",
       "      <th>Zn</th>\n",
       "      <th>Zr</th>\n",
       "    </tr>\n",
       "  </thead>\n",
       "  <tbody>\n",
       "    <tr>\n",
       "      <th>0</th>\n",
       "      <td>1</td>\n",
       "      <td>Fe3Ni</td>\n",
       "      <td>14.00</td>\n",
       "      <td>Fe0.7500Ni0.2500</td>\n",
       "      <td>0.0</td>\n",
       "      <td>0.0</td>\n",
       "      <td>0.0</td>\n",
       "      <td>0.0</td>\n",
       "      <td>0.0</td>\n",
       "      <td>0.0</td>\n",
       "      <td>...</td>\n",
       "      <td>0.0</td>\n",
       "      <td>0.0</td>\n",
       "      <td>0.0</td>\n",
       "      <td>0.0</td>\n",
       "      <td>0.0</td>\n",
       "      <td>0.0</td>\n",
       "      <td>0.0</td>\n",
       "      <td>0.0</td>\n",
       "      <td>0.0</td>\n",
       "      <td>0.0</td>\n",
       "    </tr>\n",
       "    <tr>\n",
       "      <th>1</th>\n",
       "      <td>2</td>\n",
       "      <td>Fe3Ni0.5Pt0.5</td>\n",
       "      <td>16.80</td>\n",
       "      <td>Fe0.7500Ni0.1250Pt0.1250</td>\n",
       "      <td>0.0</td>\n",
       "      <td>0.0</td>\n",
       "      <td>0.0</td>\n",
       "      <td>0.0</td>\n",
       "      <td>0.0</td>\n",
       "      <td>0.0</td>\n",
       "      <td>...</td>\n",
       "      <td>0.0</td>\n",
       "      <td>0.0</td>\n",
       "      <td>0.0</td>\n",
       "      <td>0.0</td>\n",
       "      <td>0.0</td>\n",
       "      <td>0.0</td>\n",
       "      <td>0.0</td>\n",
       "      <td>0.0</td>\n",
       "      <td>0.0</td>\n",
       "      <td>0.0</td>\n",
       "    </tr>\n",
       "    <tr>\n",
       "      <th>2</th>\n",
       "      <td>3</td>\n",
       "      <td>Fe3Pt</td>\n",
       "      <td>-30.00</td>\n",
       "      <td>Fe0.7500Pt0.2500</td>\n",
       "      <td>0.0</td>\n",
       "      <td>0.0</td>\n",
       "      <td>0.0</td>\n",
       "      <td>0.0</td>\n",
       "      <td>0.0</td>\n",
       "      <td>0.0</td>\n",
       "      <td>...</td>\n",
       "      <td>0.0</td>\n",
       "      <td>0.0</td>\n",
       "      <td>0.0</td>\n",
       "      <td>0.0</td>\n",
       "      <td>0.0</td>\n",
       "      <td>0.0</td>\n",
       "      <td>0.0</td>\n",
       "      <td>0.0</td>\n",
       "      <td>0.0</td>\n",
       "      <td>0.0</td>\n",
       "    </tr>\n",
       "    <tr>\n",
       "      <th>3</th>\n",
       "      <td>4</td>\n",
       "      <td>Fe0.75Pt0.25</td>\n",
       "      <td>-26.00</td>\n",
       "      <td>Fe0.7500Pt0.2500</td>\n",
       "      <td>0.0</td>\n",
       "      <td>0.0</td>\n",
       "      <td>0.0</td>\n",
       "      <td>0.0</td>\n",
       "      <td>0.0</td>\n",
       "      <td>0.0</td>\n",
       "      <td>...</td>\n",
       "      <td>0.0</td>\n",
       "      <td>0.0</td>\n",
       "      <td>0.0</td>\n",
       "      <td>0.0</td>\n",
       "      <td>0.0</td>\n",
       "      <td>0.0</td>\n",
       "      <td>0.0</td>\n",
       "      <td>0.0</td>\n",
       "      <td>0.0</td>\n",
       "      <td>0.0</td>\n",
       "    </tr>\n",
       "    <tr>\n",
       "      <th>4</th>\n",
       "      <td>5</td>\n",
       "      <td>Fe0.75Ni0.125Pt0.125</td>\n",
       "      <td>11.37</td>\n",
       "      <td>Fe0.7500Ni0.1250Pt0.1250</td>\n",
       "      <td>0.0</td>\n",
       "      <td>0.0</td>\n",
       "      <td>0.0</td>\n",
       "      <td>0.0</td>\n",
       "      <td>0.0</td>\n",
       "      <td>0.0</td>\n",
       "      <td>...</td>\n",
       "      <td>0.0</td>\n",
       "      <td>0.0</td>\n",
       "      <td>0.0</td>\n",
       "      <td>0.0</td>\n",
       "      <td>0.0</td>\n",
       "      <td>0.0</td>\n",
       "      <td>0.0</td>\n",
       "      <td>0.0</td>\n",
       "      <td>0.0</td>\n",
       "      <td>0.0</td>\n",
       "    </tr>\n",
       "  </tbody>\n",
       "</table>\n",
       "<p>5 rows × 69 columns</p>\n",
       "</div>"
      ]
     },
     "execution_count": 7,
     "metadata": {},
     "output_type": "execute_result"
    }
   ],
   "execution_count": 7
  },
  {
   "metadata": {
    "ExecuteTime": {
     "end_time": "2025-01-11T08:37:19.862783Z",
     "start_time": "2025-01-11T08:37:19.838670Z"
    }
   },
   "cell_type": "code",
   "source": [
    "df = data.copy()\n",
    "df = df.drop('formula', axis=1)\n",
    "df = df.drop('Normalized_Formulas', axis=1)\n",
    "df = df.drop('ID', axis=1)\n",
    "df.head()"
   ],
   "id": "ef332fc1869dd3de",
   "outputs": [
    {
     "data": {
      "text/plain": [
       "   the thermal expansion   Al   As    B   Ba   Bi   Br    C   Ca   Cd  ...  \\\n",
       "0                  14.00  0.0  0.0  0.0  0.0  0.0  0.0  0.0  0.0  0.0  ...   \n",
       "1                  16.80  0.0  0.0  0.0  0.0  0.0  0.0  0.0  0.0  0.0  ...   \n",
       "2                 -30.00  0.0  0.0  0.0  0.0  0.0  0.0  0.0  0.0  0.0  ...   \n",
       "3                 -26.00  0.0  0.0  0.0  0.0  0.0  0.0  0.0  0.0  0.0  ...   \n",
       "4                  11.37  0.0  0.0  0.0  0.0  0.0  0.0  0.0  0.0  0.0  ...   \n",
       "\n",
       "    Ta   Tb   Te   Ti    V    W    Y   Yb   Zn   Zr  \n",
       "0  0.0  0.0  0.0  0.0  0.0  0.0  0.0  0.0  0.0  0.0  \n",
       "1  0.0  0.0  0.0  0.0  0.0  0.0  0.0  0.0  0.0  0.0  \n",
       "2  0.0  0.0  0.0  0.0  0.0  0.0  0.0  0.0  0.0  0.0  \n",
       "3  0.0  0.0  0.0  0.0  0.0  0.0  0.0  0.0  0.0  0.0  \n",
       "4  0.0  0.0  0.0  0.0  0.0  0.0  0.0  0.0  0.0  0.0  \n",
       "\n",
       "[5 rows x 66 columns]"
      ],
      "text/html": [
       "<div>\n",
       "<style scoped>\n",
       "    .dataframe tbody tr th:only-of-type {\n",
       "        vertical-align: middle;\n",
       "    }\n",
       "\n",
       "    .dataframe tbody tr th {\n",
       "        vertical-align: top;\n",
       "    }\n",
       "\n",
       "    .dataframe thead th {\n",
       "        text-align: right;\n",
       "    }\n",
       "</style>\n",
       "<table border=\"1\" class=\"dataframe\">\n",
       "  <thead>\n",
       "    <tr style=\"text-align: right;\">\n",
       "      <th></th>\n",
       "      <th>the thermal expansion</th>\n",
       "      <th>Al</th>\n",
       "      <th>As</th>\n",
       "      <th>B</th>\n",
       "      <th>Ba</th>\n",
       "      <th>Bi</th>\n",
       "      <th>Br</th>\n",
       "      <th>C</th>\n",
       "      <th>Ca</th>\n",
       "      <th>Cd</th>\n",
       "      <th>...</th>\n",
       "      <th>Ta</th>\n",
       "      <th>Tb</th>\n",
       "      <th>Te</th>\n",
       "      <th>Ti</th>\n",
       "      <th>V</th>\n",
       "      <th>W</th>\n",
       "      <th>Y</th>\n",
       "      <th>Yb</th>\n",
       "      <th>Zn</th>\n",
       "      <th>Zr</th>\n",
       "    </tr>\n",
       "  </thead>\n",
       "  <tbody>\n",
       "    <tr>\n",
       "      <th>0</th>\n",
       "      <td>14.00</td>\n",
       "      <td>0.0</td>\n",
       "      <td>0.0</td>\n",
       "      <td>0.0</td>\n",
       "      <td>0.0</td>\n",
       "      <td>0.0</td>\n",
       "      <td>0.0</td>\n",
       "      <td>0.0</td>\n",
       "      <td>0.0</td>\n",
       "      <td>0.0</td>\n",
       "      <td>...</td>\n",
       "      <td>0.0</td>\n",
       "      <td>0.0</td>\n",
       "      <td>0.0</td>\n",
       "      <td>0.0</td>\n",
       "      <td>0.0</td>\n",
       "      <td>0.0</td>\n",
       "      <td>0.0</td>\n",
       "      <td>0.0</td>\n",
       "      <td>0.0</td>\n",
       "      <td>0.0</td>\n",
       "    </tr>\n",
       "    <tr>\n",
       "      <th>1</th>\n",
       "      <td>16.80</td>\n",
       "      <td>0.0</td>\n",
       "      <td>0.0</td>\n",
       "      <td>0.0</td>\n",
       "      <td>0.0</td>\n",
       "      <td>0.0</td>\n",
       "      <td>0.0</td>\n",
       "      <td>0.0</td>\n",
       "      <td>0.0</td>\n",
       "      <td>0.0</td>\n",
       "      <td>...</td>\n",
       "      <td>0.0</td>\n",
       "      <td>0.0</td>\n",
       "      <td>0.0</td>\n",
       "      <td>0.0</td>\n",
       "      <td>0.0</td>\n",
       "      <td>0.0</td>\n",
       "      <td>0.0</td>\n",
       "      <td>0.0</td>\n",
       "      <td>0.0</td>\n",
       "      <td>0.0</td>\n",
       "    </tr>\n",
       "    <tr>\n",
       "      <th>2</th>\n",
       "      <td>-30.00</td>\n",
       "      <td>0.0</td>\n",
       "      <td>0.0</td>\n",
       "      <td>0.0</td>\n",
       "      <td>0.0</td>\n",
       "      <td>0.0</td>\n",
       "      <td>0.0</td>\n",
       "      <td>0.0</td>\n",
       "      <td>0.0</td>\n",
       "      <td>0.0</td>\n",
       "      <td>...</td>\n",
       "      <td>0.0</td>\n",
       "      <td>0.0</td>\n",
       "      <td>0.0</td>\n",
       "      <td>0.0</td>\n",
       "      <td>0.0</td>\n",
       "      <td>0.0</td>\n",
       "      <td>0.0</td>\n",
       "      <td>0.0</td>\n",
       "      <td>0.0</td>\n",
       "      <td>0.0</td>\n",
       "    </tr>\n",
       "    <tr>\n",
       "      <th>3</th>\n",
       "      <td>-26.00</td>\n",
       "      <td>0.0</td>\n",
       "      <td>0.0</td>\n",
       "      <td>0.0</td>\n",
       "      <td>0.0</td>\n",
       "      <td>0.0</td>\n",
       "      <td>0.0</td>\n",
       "      <td>0.0</td>\n",
       "      <td>0.0</td>\n",
       "      <td>0.0</td>\n",
       "      <td>...</td>\n",
       "      <td>0.0</td>\n",
       "      <td>0.0</td>\n",
       "      <td>0.0</td>\n",
       "      <td>0.0</td>\n",
       "      <td>0.0</td>\n",
       "      <td>0.0</td>\n",
       "      <td>0.0</td>\n",
       "      <td>0.0</td>\n",
       "      <td>0.0</td>\n",
       "      <td>0.0</td>\n",
       "    </tr>\n",
       "    <tr>\n",
       "      <th>4</th>\n",
       "      <td>11.37</td>\n",
       "      <td>0.0</td>\n",
       "      <td>0.0</td>\n",
       "      <td>0.0</td>\n",
       "      <td>0.0</td>\n",
       "      <td>0.0</td>\n",
       "      <td>0.0</td>\n",
       "      <td>0.0</td>\n",
       "      <td>0.0</td>\n",
       "      <td>0.0</td>\n",
       "      <td>...</td>\n",
       "      <td>0.0</td>\n",
       "      <td>0.0</td>\n",
       "      <td>0.0</td>\n",
       "      <td>0.0</td>\n",
       "      <td>0.0</td>\n",
       "      <td>0.0</td>\n",
       "      <td>0.0</td>\n",
       "      <td>0.0</td>\n",
       "      <td>0.0</td>\n",
       "      <td>0.0</td>\n",
       "    </tr>\n",
       "  </tbody>\n",
       "</table>\n",
       "<p>5 rows × 66 columns</p>\n",
       "</div>"
      ]
     },
     "execution_count": 8,
     "metadata": {},
     "output_type": "execute_result"
    }
   ],
   "execution_count": 8
  },
  {
   "metadata": {},
   "cell_type": "markdown",
   "source": "# 可见需要把大于3000的视为异常值",
   "id": "6fda204f216f88a5"
  },
  {
   "metadata": {
    "ExecuteTime": {
     "end_time": "2025-01-11T08:37:21.381300Z",
     "start_time": "2025-01-11T08:37:21.370262Z"
    }
   },
   "cell_type": "code",
   "source": [
    "# 删除 'the thermal expansion' 列中大于 3000 的行\n",
    "df_cleaned = df[df['the thermal expansion'] <= 3000]"
   ],
   "id": "a0f74fa98ac45bb",
   "outputs": [],
   "execution_count": 9
  },
  {
   "metadata": {
    "ExecuteTime": {
     "end_time": "2025-01-11T08:37:22.182891Z",
     "start_time": "2025-01-11T08:37:22.166336Z"
    }
   },
   "cell_type": "code",
   "source": [
    "# 删除 'the thermal expansion' 列中小于 -200 的行\n",
    "df_cleaned = df_cleaned[df_cleaned['the thermal expansion'] >= -200]"
   ],
   "id": "e606bd86c5510b31",
   "outputs": [],
   "execution_count": 10
  },
  {
   "metadata": {},
   "cell_type": "markdown",
   "source": "# 大致符合正态分布",
   "id": "14ae92e1aa8d4281"
  },
  {
   "metadata": {
    "ExecuteTime": {
     "end_time": "2025-01-11T08:37:23.105695Z",
     "start_time": "2025-01-11T08:37:23.093023Z"
    }
   },
   "cell_type": "code",
   "source": [
    "all_features = df_cleaned.drop('the thermal expansion', axis=1)\n",
    "all_labels = df_cleaned['the thermal expansion']\n",
    "print(f'全部的特征：{all_features.shape}')\n",
    "print(f'全部的标签：{all_labels.shape}')"
   ],
   "id": "93a44dcc8bc336bc",
   "outputs": [
    {
     "name": "stdout",
     "output_type": "stream",
     "text": [
      "全部的特征：(382, 65)\n",
      "全部的标签：(382,)\n"
     ]
    }
   ],
   "execution_count": 11
  },
  {
   "metadata": {
    "ExecuteTime": {
     "end_time": "2025-01-11T08:37:24.101221Z",
     "start_time": "2025-01-11T08:37:23.535403Z"
    }
   },
   "cell_type": "code",
   "source": [
    "from sklearn.preprocessing import StandardScaler\n",
    "import numpy as np\n",
    "# 标准化特征\n",
    "scaler = StandardScaler()\n",
    "all_labels_scaler = scaler.fit_transform(np.array(all_labels).reshape(-1, 1))"
   ],
   "id": "76472278b3e46da",
   "outputs": [],
   "execution_count": 12
  },
  {
   "metadata": {
    "ExecuteTime": {
     "end_time": "2025-01-11T08:37:24.879796Z",
     "start_time": "2025-01-11T08:37:24.805586Z"
    }
   },
   "cell_type": "code",
   "source": [
    "from sklearn.model_selection import train_test_split\n",
    "# 将总的数据集分开\n",
    "X_train, X_test, y_train, y_test = train_test_split(all_features, all_labels_scaler, test_size=0.2, random_state=42)\n",
    "print(f'训练集的特征：{X_train.shape}, 标签：{y_train.shape}')\n",
    "print(f'测试集的特征：{X_test.shape}, 标签：{y_test.shape}')"
   ],
   "id": "93844006edb1226a",
   "outputs": [
    {
     "name": "stdout",
     "output_type": "stream",
     "text": [
      "训练集的特征：(305, 65), 标签：(305, 1)\n",
      "测试集的特征：(77, 65), 标签：(77, 1)\n"
     ]
    }
   ],
   "execution_count": 13
  },
  {
   "metadata": {
    "ExecuteTime": {
     "end_time": "2025-01-11T08:39:17.374273Z",
     "start_time": "2025-01-11T08:39:17.023982Z"
    }
   },
   "cell_type": "code",
   "source": [
    "import torch\n",
    "from torch import nn\n",
    "from sklearn.metrics import mean_squared_error\n",
    "from sklearn.metrics import r2_score\n",
    "import matplotlib.pyplot as plt\n",
    "import class_common as comn\n",
    "plt.rcParams['font.sans-serif'] = ['Microsoft YaHei']\n",
    "plt.rcParams['axes.unicode_minus'] = False"
   ],
   "id": "eb329fc5f3ef59aa",
   "outputs": [],
   "execution_count": 18
  },
  {
   "metadata": {
    "ExecuteTime": {
     "end_time": "2025-01-11T08:43:19.133249Z",
     "start_time": "2025-01-11T08:43:19.117119Z"
    }
   },
   "cell_type": "code",
   "source": [
    "# 转为 torch类型\n",
    "X_train = torch.tensor(X_train.values, dtype=torch.float32)\n",
    "y_train = torch.tensor(y_train, dtype=torch.float32)\n",
    "X_test = torch.tensor(X_test.values, dtype=torch.float32)\n",
    "y_test = torch.tensor(y_test, dtype=torch.float32)\n",
    "print(f'训练集的特征：{X_train.shape}, 标签：{y_train.shape}')\n",
    "print(f'测试集的特征：{X_test.shape}, 标签：{y_test.shape}')"
   ],
   "id": "4991f2825601c600",
   "outputs": [
    {
     "name": "stdout",
     "output_type": "stream",
     "text": [
      "训练集的特征：torch.Size([305, 65]), 标签：torch.Size([305, 1])\n",
      "测试集的特征：torch.Size([77, 65]), 标签：torch.Size([77, 1])\n"
     ]
    }
   ],
   "execution_count": 23
  },
  {
   "metadata": {
    "ExecuteTime": {
     "end_time": "2025-01-11T08:48:45.791770Z",
     "start_time": "2025-01-11T08:48:45.775358Z"
    }
   },
   "cell_type": "code",
   "source": [
    "def init_weights(m):\n",
    "    if type(m) == torch.nn.Linear:\n",
    "        torch.nn.init.normal_(m.weight, std=0.01)\n",
    "\n",
    "batch_size, num_epochs, weight_decay = 128, 300, 0.001\n",
    "# 计算损失值\n",
    "loss = nn.MSELoss(reduction='none')\n",
    "# 训练模型\n",
    "lr = 0.01\n",
    "# 设置优化器\n",
    "net = nn.Sequential(nn.Flatten(),\n",
    "                    nn.Linear(65, 128),\n",
    "                    nn.ReLU(),\n",
    "                    nn.Linear(128, 128),\n",
    "                    nn.ReLU(),\n",
    "                    nn.Linear(128, 64),\n",
    "                    nn.ReLU(),\n",
    "                    nn.Linear(64, 32),\n",
    "                    nn.ReLU(),\n",
    "                    nn.Linear(32, 1),\n",
    "                    )\n",
    "net.apply(init_weights)"
   ],
   "id": "1c9bd393f7934cd6",
   "outputs": [
    {
     "data": {
      "text/plain": [
       "Sequential(\n",
       "  (0): Flatten(start_dim=1, end_dim=-1)\n",
       "  (1): Linear(in_features=65, out_features=128, bias=True)\n",
       "  (2): ReLU()\n",
       "  (3): Linear(in_features=128, out_features=128, bias=True)\n",
       "  (4): ReLU()\n",
       "  (5): Linear(in_features=128, out_features=64, bias=True)\n",
       "  (6): ReLU()\n",
       "  (7): Linear(in_features=64, out_features=32, bias=True)\n",
       "  (8): ReLU()\n",
       "  (9): Linear(in_features=32, out_features=1, bias=True)\n",
       ")"
      ]
     },
     "execution_count": 30,
     "metadata": {},
     "output_type": "execute_result"
    }
   ],
   "execution_count": 30
  },
  {
   "metadata": {
    "ExecuteTime": {
     "end_time": "2025-01-11T08:48:51.051310Z",
     "start_time": "2025-01-11T08:48:48.683371Z"
    }
   },
   "cell_type": "code",
   "source": [
    "mse, r2 = comn.train_decay(net, X_train, X_test, y_train, y_test, batch_size=batch_size, \n",
    "                           loss=loss, num_epochs=num_epochs, weight_decay=weight_decay)\n",
    "print(f'MLP模型【原始数据】：MSE:{mse:.5f}, r2: {r2:.5f}')"
   ],
   "id": "dc612e5e49fcad08",
   "outputs": [
    {
     "name": "stdout",
     "output_type": "stream",
     "text": [
      "神经网络模型【原数据】MSE:0.99328,r2: -0.00708\n",
      "MLP模型【原始数据】：MSE:0.99328, r2: -0.00708\n"
     ]
    }
   ],
   "execution_count": 31
  },
  {
   "metadata": {
    "ExecuteTime": {
     "end_time": "2025-01-11T08:51:44.173740Z",
     "start_time": "2025-01-11T08:51:44.164960Z"
    }
   },
   "cell_type": "code",
   "source": [
    "train_pred = net(X_train).detach().numpy()\n",
    "label_pred = net(X_test).detach().numpy()"
   ],
   "id": "df845a7ac41de8d1",
   "outputs": [],
   "execution_count": 35
  },
  {
   "metadata": {
    "ExecuteTime": {
     "end_time": "2025-01-11T08:51:57.030286Z",
     "start_time": "2025-01-11T08:51:56.719413Z"
    }
   },
   "cell_type": "code",
   "source": [
    "import matplotlib.pyplot as plt\n",
    "# 先将数据反归一化\n",
    "salered_train_label_pred = scaler.inverse_transform(train_pred.reshape(-1,1))\n",
    "salered_train_labels = scaler.inverse_transform(y_train)\n",
    "plt.scatter(salered_train_labels, salered_train_label_pred, color='blue', label='Predicted vs True')\n",
    "# 绘制Y=X的直线，表示完美预测\n",
    "plt.plot([min(salered_train_labels), max(salered_train_label_pred)], [min(salered_train_labels), max(salered_train_label_pred)], 'r--', label='Perfect Prediction (Y=X)')\n",
    "# 添加图例\n",
    "plt.legend()\n",
    "# 设置坐标轴标签\n",
    "plt.xlabel('真确的值')\n",
    "plt.ylabel('预测的值')\n",
    "# 设置标题\n",
    "plt.title('MLP的训练集预测结果')\n",
    "# 显示图形\n",
    "plt.show()\n",
    "\n",
    "# 预测集\n",
    "salered_test_labels = scaler.inverse_transform(y_test)\n",
    "salered_label_pred = scaler.inverse_transform(label_pred.reshape(-1,1))\n",
    "plt.scatter(salered_test_labels, salered_label_pred, color='blue', label='Predicted vs True')\n",
    "# 绘制Y=X的直线，表示完美预测\n",
    "plt.plot([min(salered_test_labels), max(salered_label_pred)], [min(salered_test_labels), max(salered_label_pred)], 'r--', label='Perfect Prediction (Y=X)')\n",
    "# 添加图例\n",
    "plt.legend()\n",
    "# 设置坐标轴标签\n",
    "plt.xlabel('真确的值')\n",
    "plt.ylabel('预测的值')\n",
    "# 设置标题\n",
    "plt.title('MLP的测试集预测结果')\n",
    "# 显示图形\n",
    "plt.show()"
   ],
   "id": "ec233b72f5877b51",
   "outputs": [
    {
     "data": {
      "text/plain": [
       "<Figure size 640x480 with 1 Axes>"
      ],
      "image/png": "[encoded data removed]"
     },
     "metadata": {},
     "output_type": "display_data"
    },
    {
     "data": {
      "text/plain": [
       "<Figure size 640x480 with 1 Axes>"
      ],
      "image/png": "[encoded data removed]"
     },
     "metadata": {},
     "output_type": "display_data"
    }
   ],
   "execution_count": 37
  },
  {
   "metadata": {},
   "cell_type": "markdown",
   "source": "# 查看预测的偏差值",
   "id": "1a7e64a42989687b"
  },
  {
   "metadata": {
    "ExecuteTime": {
     "end_time": "2025-01-11T08:52:00.798526Z",
     "start_time": "2025-01-11T08:52:00.648351Z"
    }
   },
   "cell_type": "code",
   "source": [
    "\n",
    "big_num = 0\n",
    "small_num = 0\n",
    "for i in range(len(label_pred)):\n",
    "    if label_pred[i].mean() >= y_test[i].mean():\n",
    "        big_num += 1\n",
    "    else:\n",
    "        small_num += 1\n",
    "print(f'预测值大于原值的个数：{big_num}, 预测值小于原值的个数：{small_num}')\n",
    "\n",
    "# 计算偏移量\n",
    "value = []\n",
    "for i in range(len(label_pred)):\n",
    "    value.append(salered_test_labels[i] - salered_label_pred[i])\n",
    "\n",
    "bins = np.arange(-70, 71, 10)  # 从-1到1，每隔0.1一个区间\n",
    "counts, _ = np.histogram(value, bins=bins)\n",
    "print(counts)\n",
    "bin_centers = (bins[:-1] + bins[1:]) / 2\n",
    "# 绘制柱形图\n",
    "plt.figure(figsize=(10, 6))  # 设置图形大小\n",
    "plt.bar(bin_centers, counts, width=5, color='skyblue', edgecolor='black')  # 宽度设置为0.1与区间宽度相匹配\n",
    "\n",
    "# 添加标题和轴标签\n",
    "plt.title('误差偏移量')\n",
    "plt.xlabel('偏移量区间')\n",
    "plt.ylabel('统计个数')\n",
    "\n",
    "# 显示网格\n",
    "plt.grid(True)\n",
    "plt.show()"
   ],
   "id": "b760312e174c715b",
   "outputs": [
    {
     "name": "stdout",
     "output_type": "stream",
     "text": [
      "预测值大于原值的个数：29, 预测值小于原值的个数：48\n",
      "[ 0  1  2  0  2  3 17 19 26  3  0  0  0  0]\n"
     ]
    },
    {
     "data": {
      "text/plain": [
       "<Figure size 1000x600 with 1 Axes>"
      ],
      "image/png": "[encoded data removed]"
     },
     "metadata": {},
     "output_type": "display_data"
    }
   ],
   "execution_count": 38
  }
 ],
 "metadata": {
  "kernelspec": {
   "display_name": "Python 3",
   "language": "python",
   "name": "python3"
  },
  "language_info": {
   "codemirror_mode": {
    "name": "ipython",
    "version": 2
   },
   "file_extension": ".py",
   "mimetype": "text/x-python",
   "name": "python",
   "nbconvert_exporter": "python",
   "pygments_lexer": "ipython2",
   "version": "2.7.6"
  }
 },
 "nbformat": 4,
 "nbformat_minor": 5
}
