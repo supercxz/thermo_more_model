{
 "cells": [
  {
   "cell_type": "code",
   "execution_count": null,
   "id": "initial_id",
   "metadata": {
    "ExecuteTime": {
     "end_time": "2025-01-11T08:31:08.830321Z",
     "start_time": "2025-01-11T08:31:08.430778Z"
    },
    "collapsed": true
   },
   "outputs": [],
   "source": [
    "import pandas as pd\n",
    "import re\n",
    "import warnings\n",
    "warnings.filterwarnings(\"ignore\")\n",
    "\n",
    "import matplotlib.pyplot as plt\n",
    "plt.rcParams['font.sans-serif'] = ['Microsoft YaHei']\n",
    "plt.rcParams['axes.unicode_minus'] = False"
   ]
  },
  {
   "cell_type": "code",
   "execution_count": null,
   "id": "25388754264653eb",
   "metadata": {
    "ExecuteTime": {
     "end_time": "2025-01-11T08:31:10.436512Z",
     "start_time": "2025-01-11T08:31:10.103195Z"
    }
   },
   "outputs": [],
   "source": [
    "data_high_bound = 30\n",
    "data_low_bound = -20\n",
    "need_to_normalized = False\n",
    "need_to_write_result_to_csv = True\n",
    "\n",
    "data = pd.read_excel('./dataset/rt_df_thermo1.xlsx')\n",
    "data.head()"
   ]
  },
  {
   "cell_type": "code",
   "execution_count": null,
   "id": "bc6981eef62da83b",
   "metadata": {
    "ExecuteTime": {
     "end_time": "2025-01-11T08:31:11.951136Z",
     "start_time": "2025-01-11T08:31:11.941317Z"
    }
   },
   "outputs": [],
   "source": [
    "# 函数：解析化学成分及其比例\n",
    "def parse_normalized_formulas(formula):\n",
    "    \"\"\"\n",
    "    将Normalized_Formulas解析为化学成分及其比例。\n",
    "    返回一个字典，键为化学成分，值为比例。\n",
    "    \"\"\"\n",
    "    elements = re.findall(r'([A-Z][a-z]*)(\\d*\\.?\\d+)', formula)\n",
    "    return {element: float(ratio) for element, ratio in elements}"
   ]
  },
  {
   "cell_type": "code",
   "execution_count": null,
   "id": "4701a739ad6b6a8b",
   "metadata": {
    "ExecuteTime": {
     "end_time": "2025-01-11T08:31:13.564643Z",
     "start_time": "2025-01-11T08:31:13.545068Z"
    }
   },
   "outputs": [],
   "source": [
    "# 提取所有化学成分\n",
    "all_elements = set()\n",
    "for formula in data['Normalized_Formulas']:\n",
    "    parsed = parse_normalized_formulas(formula)\n",
    "    all_elements.update(parsed.keys())"
   ]
  },
  {
   "cell_type": "code",
   "execution_count": null,
   "id": "284130aa3c356b97",
   "metadata": {
    "ExecuteTime": {
     "end_time": "2025-01-11T08:31:14.956909Z",
     "start_time": "2025-01-11T08:31:14.950948Z"
    }
   },
   "outputs": [],
   "source": [
    "all_elements"
   ]
  },
  {
   "cell_type": "code",
   "execution_count": null,
   "id": "79cfa84cd92bdfc5",
   "metadata": {
    "ExecuteTime": {
     "end_time": "2025-01-11T08:31:16.994754Z",
     "start_time": "2025-01-11T08:31:16.890977Z"
    }
   },
   "outputs": [],
   "source": [
    "# 确保列顺序一致\n",
    "all_elements = sorted(all_elements)\n",
    "\n",
    "# 创建新列：每个元素作为一列，未出现的元素填充为0\n",
    "for element in all_elements:\n",
    "    data[element] = data['Normalized_Formulas'].apply(\n",
    "        lambda x: parse_normalized_formulas(x).get(element, 0)\n",
    "    )"
   ]
  },
  {
   "cell_type": "code",
   "execution_count": null,
   "id": "7f6a03b054610d91",
   "metadata": {
    "ExecuteTime": {
     "end_time": "2025-01-11T08:31:18.331142Z",
     "start_time": "2025-01-11T08:31:18.300378Z"
    }
   },
   "outputs": [],
   "source": [
    "data.head()"
   ]
  },
  {
   "cell_type": "code",
   "execution_count": null,
   "id": "ef332fc1869dd3de",
   "metadata": {
    "ExecuteTime": {
     "end_time": "2025-01-11T08:31:20.338004Z",
     "start_time": "2025-01-11T08:31:20.303625Z"
    }
   },
   "outputs": [],
   "source": [
    "df = data.copy()\n",
    "df = df.drop('formula', axis=1)\n",
    "df = df.drop('Normalized_Formulas', axis=1)\n",
    "df = df.drop('ID', axis=1)\n",
    "df.head()"
   ]
  },
  {
   "cell_type": "code",
   "execution_count": null,
   "id": "bdb1ae22",
   "metadata": {},
   "outputs": [],
   "source": [
    "import class_plotpicture as pl\n",
    "# 绘制目标特征的条形图\n",
    "pl.plot_prediction_feature(df, 'the thermal expansion', 'ImageOfThermal')"
   ]
  },
  {
   "cell_type": "markdown",
   "id": "6fda204f216f88a5",
   "metadata": {},
   "source": [
    "# 脏数据清理"
   ]
  },
  {
   "cell_type": "code",
   "execution_count": null,
   "id": "a0f74fa98ac45bb",
   "metadata": {
    "ExecuteTime": {
     "end_time": "2025-01-11T08:31:24.308555Z",
     "start_time": "2025-01-11T08:31:24.292954Z"
    }
   },
   "outputs": [],
   "source": [
    "# 删除 'the thermal expansion' 列中大于 data_high_bound 的行\n",
    "df_cleaned = df[df['the thermal expansion'] <= data_high_bound]\n",
    "\n",
    "# 删除 'the thermal expansion' 列中小于 data_low_bound 的行\n",
    "df_cleaned = df_cleaned[df_cleaned['the thermal expansion'] >= data_low_bound]"
   ]
  },
  {
   "cell_type": "code",
   "execution_count": null,
   "id": "ca578dde",
   "metadata": {},
   "outputs": [],
   "source": [
    "import class_plotpicture as pl\n",
    "\n",
    "# 绘制目标特征的条形图\n",
    "pl.plot_prediction_feature(df_cleaned, 'the thermal expansion', 'ImageOfThermal')"
   ]
  },
  {
   "cell_type": "markdown",
   "id": "14ae92e1aa8d4281",
   "metadata": {},
   "source": [
    "# 大致符合正态分布"
   ]
  },
  {
   "cell_type": "code",
   "execution_count": null,
   "id": "c78f46d0",
   "metadata": {},
   "outputs": [],
   "source": [
    "# 绘制数据的相关性：热力图\n",
    "# pl.plot_headmap(df_cleaned, 'the thermal expansion', 'ImageOfThermal')"
   ]
  },
  {
   "cell_type": "markdown",
   "id": "bdc51977",
   "metadata": {},
   "source": [
    "# 划分数据，进行训练和测试"
   ]
  },
  {
   "cell_type": "code",
   "execution_count": null,
   "id": "93a44dcc8bc336bc",
   "metadata": {
    "ExecuteTime": {
     "end_time": "2025-01-11T08:31:27.817446Z",
     "start_time": "2025-01-11T08:31:27.805470Z"
    }
   },
   "outputs": [],
   "source": [
    "all_features = df_cleaned.drop('the thermal expansion', axis=1)\n",
    "all_labels = df_cleaned['the thermal expansion']\n",
    "print(f'全部的特征：{all_features.shape}')\n",
    "print(f'全部的标签：{all_labels.shape}')"
   ]
  },
  {
   "cell_type": "code",
   "execution_count": null,
   "id": "76472278b3e46da",
   "metadata": {
    "ExecuteTime": {
     "end_time": "2025-01-11T08:31:31.690877Z",
     "start_time": "2025-01-11T08:31:31.075401Z"
    }
   },
   "outputs": [],
   "source": [
    "from sklearn.preprocessing import StandardScaler\n",
    "import numpy as np\n",
    "# 标准化特征\n",
    "scaler = StandardScaler()\n",
    "all_labels_scaler = scaler.fit_transform(np.array(all_labels).reshape(-1, 1))\n",
    "all_labels = np.array(all_labels).reshape(-1, 1)"
   ]
  },
  {
   "cell_type": "code",
   "execution_count": null,
   "id": "93844006edb1226a",
   "metadata": {
    "ExecuteTime": {
     "end_time": "2025-01-11T08:31:32.278905Z",
     "start_time": "2025-01-11T08:31:32.226497Z"
    }
   },
   "outputs": [],
   "source": [
    "from sklearn.model_selection import train_test_split\n",
    "# 将总的数据集分开。这里根据是否需要对特征进行标准化\n",
    "if need_to_normalized:\n",
    "    X_train, X_test, y_train, y_test = train_test_split(all_features, all_labels_scaler, test_size=0.2, random_state=42)\n",
    "else:\n",
    "    X_train, X_test, y_train, y_test = train_test_split(all_features, all_labels, test_size=0.2, random_state=42)\n",
    "print(f'训练集的特征：{X_train.shape}, 标签：{y_train.shape}')\n",
    "print(f'测试集的特征：{X_test.shape}, 标签：{y_test.shape}')"
   ]
  },
  {
   "cell_type": "markdown",
   "id": "f31ff068",
   "metadata": {},
   "source": [
    "# 超参数优化"
   ]
  },
  {
   "cell_type": "code",
   "execution_count": null,
   "id": "eb329fc5f3ef59aa",
   "metadata": {
    "ExecuteTime": {
     "end_time": "2025-01-11T08:32:00.293555Z",
     "start_time": "2025-01-11T08:31:59.867332Z"
    }
   },
   "outputs": [],
   "source": [
    "import xgboost as xgb\n",
    "from sklearn.metrics import mean_squared_error\n",
    "from sklearn.metrics import mean_absolute_error\n",
    "from sklearn.metrics import r2_score"
   ]
  },
  {
   "cell_type": "code",
   "execution_count": null,
   "id": "b7937870a3624cad",
   "metadata": {
    "ExecuteTime": {
     "end_time": "2025-01-11T08:35:39.273524Z",
     "start_time": "2025-01-11T08:35:39.214164Z"
    }
   },
   "outputs": [],
   "source": [
    "# 创建XGBoost分类器对象\n",
    "clf = xgb.XGBRegressor(random_state=42, n_estimators=223, learning_rate=0.4)\n",
    "# 在训练集上拟合模型\n",
    "clf.fit(X_train, y_train)\n",
    "train_pred = clf.predict(X_train)\n",
    "# 对测试集进行预测\n",
    "label_pred = clf.predict(X_test)\n",
    "# 计算MSE(平均误差)和精确度\n",
    "mse = mean_squared_error(y_test, label_pred)\n",
    "mae = mean_absolute_error(y_test, label_pred)\n",
    "r2 = r2_score(y_test, label_pred)\n",
    "\n",
    "# 输出模型评估结果和目标方程\n",
    "print(f'MSE:{mse:.5f}')\n",
    "print(f'MAE:{mae:.5f}')\n",
    "print(f\"R2: {r2:.5f}\")\n",
    "\n",
    "# 计算MSE(平均误差)和精确度\n",
    "mse_train = mean_squared_error(y_train, train_pred)\n",
    "mae_train = mean_absolute_error(y_train, train_pred)\n",
    "r2_train = r2_score(y_train, train_pred)\n",
    "\n",
    "# 输出模型评估结果和目标方程\n",
    "print(f'MSE_train:{mse_train:.5f}')\n",
    "print(f'MAE_train:{mae_train:.5f}')\n",
    "print(f\"R2_train: {r2_train:.5f}\")"
   ]
  },
  {
   "cell_type": "markdown",
   "id": "db0ebd4a",
   "metadata": {},
   "source": [
    "# 预测LATP（带离子电导率预测）"
   ]
  },
  {
   "cell_type": "code",
   "execution_count": null,
   "id": "1305f325",
   "metadata": {},
   "outputs": [],
   "source": [
    "latp_with_conductivity_data_raw = pd.read_csv('./dataset/pred33Ti_with_conductivity_prediction.csv', header=None)\n",
    "\n",
    "latp_conductivity_column = latp_with_conductivity_data_raw.iloc[:, 1].reset_index(drop=True)\n",
    "latp_original_formula_column = latp_with_conductivity_data_raw.iloc[:, 19].reset_index(drop=True)\n",
    "\n",
    "# 归一化化学式\n",
    "from utils import normalize_chemical_formula\n",
    "latp_formula_column = latp_original_formula_column.apply(lambda x: normalize_chemical_formula(x))\n",
    "\n",
    "latp_formula_column.name = 'pretty_formula'\n",
    "latp_data = pd.DataFrame(latp_formula_column)\n",
    "print(latp_data.head())\n",
    "\n",
    "# 确保列顺序一致\n",
    "all_elements = sorted(all_elements)\n",
    "\n",
    "# 创建新列：每个元素作为一列，未出现的元素填充为0\n",
    "for element in all_elements:\n",
    "    latp_data[element] = latp_data['pretty_formula'].apply(\n",
    "        lambda x: parse_normalized_formulas(x).get(element, 0)\n",
    "    )\n",
    "\n",
    "latp_data = latp_data.drop('pretty_formula', axis=1)\n",
    "print(latp_data.head())\n",
    "\n",
    "latp_pred = clf.predict(latp_data)\n",
    "\n",
    "print(f'latp_pred: {latp_pred}')\n",
    "\n",
    "if need_to_normalized:\n",
    "    # 将数据反归一化（归一化是 fit_transform\n",
    "    salered_latp_pred = scaler.inverse_transform(latp_pred.reshape(-1,1))\n",
    "    print(f'salered_latp_pred: {salered_latp_pred}')"
   ]
  },
  {
   "cell_type": "code",
   "execution_count": null,
   "id": "8fab364a",
   "metadata": {},
   "outputs": [],
   "source": [
    "# 绘制图像，横轴是热膨胀系数，纵轴是锂离子电导率\n",
    "x = latp_pred\n",
    "y = 10**latp_conductivity_column * 1000\n",
    "plt.figure(figsize=(8, 6))  # 设定图形大小\n",
    "plt.scatter(x, y, color='blue', marker='o')  # 绘制散点\n",
    "# plt.axvline(x=7, color='red', linestyle='--', label='x = 7')  # 红色虚线\n",
    "\n",
    "plt.title('Scatter Plot of latp_pred vs latp_conductivity_column')  # 图标题\n",
    "plt.xlabel('latp_pred')  # x轴标签\n",
    "plt.ylabel('latp_conductivity_column')  # y轴标签\n",
    "plt.grid(True)  # 显示网格\n",
    "plt.show()  # 显示图形\n",
    "\n",
    "if need_to_write_result_to_csv:\n",
    "    save_data_conductivity_TX = pd.DataFrame({'formula': latp_formula_column, 'original_formula': latp_original_formula_column, 'thermal_expansion': latp_pred, 'li ion conductivity': 10**latp_conductivity_column * 1000})\n",
    "    save_data_conductivity_TX.to_csv('result/XGBoost-最终预测结果.csv', index=False, header=True)"
   ]
  }
 ],
 "metadata": {
  "kernelspec": {
   "display_name": "thermo",
   "language": "python",
   "name": "thermo"
  },
  "language_info": {
   "codemirror_mode": {
    "name": "ipython",
    "version": 3
   },
   "file_extension": ".py",
   "mimetype": "text/x-python",
   "name": "python",
   "nbconvert_exporter": "python",
   "pygments_lexer": "ipython3",
   "version": "3.8.20"
  }
 },
 "nbformat": 4,
 "nbformat_minor": 5
}
